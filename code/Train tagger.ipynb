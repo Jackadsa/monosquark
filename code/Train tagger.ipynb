{
 "cells": [
  {
   "cell_type": "code",
   "execution_count": 1,
   "metadata": {},
   "outputs": [
    {
     "name": "stderr",
     "output_type": "stream",
     "text": [
      "Using TensorFlow backend.\n"
     ]
    }
   ],
   "source": [
    "import numpy as np\n",
    "import keras\n",
    "from keras import backend as K\n",
    "import tensorflow as tf\n",
    "config = tf.ConfigProto()\n",
    "config.gpu_options.allow_growth = True\n",
    "sess = tf.Session(config=config)\n",
    "\n",
    "from keras.layers import Input, Dense, Activation\n",
    "from keras.layers import Conv1D, AveragePooling1D, Conv2DTranspose\n",
    "from keras.layers import Flatten, Reshape, Lambda\n",
    "from keras.layers import Dropout\n",
    "from keras.utils import plot_model\n",
    "from keras import Model\n",
    "\n",
    "import os\n",
    "import os.path as osp\n",
    "import sys\n",
    "sys.path.append('/home/jcollins')\n",
    "\n",
    "import ot\n",
    "import numpy as np\n",
    "\n",
    "import gc"
   ]
  },
  {
   "cell_type": "code",
   "execution_count": 2,
   "metadata": {},
   "outputs": [],
   "source": [
    "masses = [200,300,400,500]\n",
    "signal_data_files = [np.load('/data1/users/jcollins/monosquark_samples/VV/VV+_'+str(mass)+'_12.npz') for mass in masses]\n",
    "\n",
    "ttbarfiles = ['tt_12_0_' + str(i) + '_0.npz' for i in range(5)]\n",
    "ttbarfiles.extend(['tt_12_1_' + str(i) + '_0.npz' for i in range(10)])\n",
    "bg_data_files = [np.load('/data1/users/jcollins/monosquark_samples/ttbar/' + filename) for filename in ttbarfiles]"
   ]
  },
  {
   "cell_type": "code",
   "execution_count": 3,
   "metadata": {},
   "outputs": [],
   "source": [
    "signal_data = [file['constituents'] for file in signal_data_files]\n",
    "signal_data = np.concatenate(signal_data, axis=0)\n",
    "bg_data = [file['constituents'] for file in bg_data_files]\n",
    "bg_data = np.concatenate(bg_data, axis=0)\n",
    "\n",
    "np.random.shuffle(signal_data)\n",
    "np.random.shuffle(bg_data)"
   ]
  },
  {
   "cell_type": "code",
   "execution_count": 4,
   "metadata": {},
   "outputs": [
    {
     "name": "stdout",
     "output_type": "stream",
     "text": [
      "219285 247098\n"
     ]
    }
   ],
   "source": [
    "print(len(bg_data),len(signal_data))"
   ]
  },
  {
   "cell_type": "code",
   "execution_count": 5,
   "metadata": {},
   "outputs": [],
   "source": [
    "numtrain = 200000\n",
    "numvalid = 10000\n",
    "numtotal = numtrain+numvalid\n",
    "\n",
    "labels = np.append(np.zeros(numtotal),np.ones(numtotal))\n",
    "data = np.append(bg_data,signal_data,axis=0)\n",
    "data[:,:]\n",
    "perms = np.random.permutation(2*numtotal)\n",
    "data = data[perms]\n",
    "for event in data:\n",
    "    event[:,0] = event[:,0] / np.sum(event[:,0],axis=-1)\n",
    "labels = labels[perms]\n",
    "\n",
    "train_data = data[:numtrain*2]\n",
    "valid_data = data[numtrain*2:]\n",
    "train_labels = labels[:numtrain*2]\n",
    "valid_labels = labels[numtrain*2:]"
   ]
  },
  {
   "cell_type": "code",
   "execution_count": 6,
   "metadata": {},
   "outputs": [],
   "source": [
    "dropprob = 0.1\n",
    "nodes = 512\n",
    "\n",
    "numparticles = len(bg_data[0])\n",
    "lenparticle = len(bg_data[0,0])\n",
    "inputs = Input(shape=(numparticles,lenparticle),name='input')\n",
    "layer = Conv1D(nodes,1,activation='relu',name='1_conv1d_0')(inputs)\n",
    "layer = Dropout(dropprob)(layer)\n",
    "layer = Conv1D(nodes,1,activation='relu',name='2_conv1d_1')(layer)\n",
    "layer = Dropout(dropprob)(layer)\n",
    "layer = Conv1D(nodes,1,activation='relu',name='3_conv1d_2')(layer)\n",
    "layer = AveragePooling1D(pool_size=numparticles,name='4_avgpool')(layer)\n",
    "layer = Reshape((nodes,), name='5_reshape')(layer)\n",
    "layer = Dropout(dropprob)(layer)\n",
    "layer = Dense(nodes,activation='relu',name='6_dense_0')(layer)\n",
    "layer = Dropout(dropprob)(layer)\n",
    "layer = Dense(nodes,activation='relu',name='7_dense_1')(layer)\n",
    "layer = Dropout(dropprob)(layer)\n",
    "layer = Dense(nodes,activation='relu',name='8_dense_2')(layer)\n",
    "layer = Dropout(dropprob)(layer)\n",
    "output = Dense(1,activation='sigmoid',name='output')(layer)\n",
    "\n",
    "model = Model(inputs, output)\n",
    "model.compile(loss=keras.losses.binary_crossentropy, optimizer=keras.optimizers.Adam())"
   ]
  },
  {
   "cell_type": "code",
   "execution_count": 11,
   "metadata": {},
   "outputs": [
    {
     "name": "stdout",
     "output_type": "stream",
     "text": [
      "Train on 400000 samples, validate on 20000 samples\n",
      "Epoch 1/200\n",
      "400000/400000 [==============================] - 107s 266us/step - loss: 0.6612 - val_loss: 0.6545\n",
      "Epoch 2/200\n",
      "400000/400000 [==============================] - 107s 267us/step - loss: 0.6542 - val_loss: 0.6502\n",
      "Epoch 3/200\n",
      "400000/400000 [==============================] - 107s 267us/step - loss: 0.6517 - val_loss: 0.6492\n",
      "Epoch 4/200\n",
      "400000/400000 [==============================] - 107s 267us/step - loss: 0.6500 - val_loss: 0.6473\n",
      "Epoch 5/200\n",
      "400000/400000 [==============================] - 107s 267us/step - loss: 0.6488 - val_loss: 0.6451\n",
      "Epoch 6/200\n",
      "400000/400000 [==============================] - 107s 267us/step - loss: 0.6479 - val_loss: 0.6452\n",
      "Epoch 7/200\n",
      "400000/400000 [==============================] - 107s 267us/step - loss: 0.6473 - val_loss: 0.6435\n",
      "Epoch 8/200\n",
      "400000/400000 [==============================] - 107s 267us/step - loss: 0.6464 - val_loss: 0.6465\n",
      "Epoch 9/200\n",
      "400000/400000 [==============================] - 107s 267us/step - loss: 0.6460 - val_loss: 0.6439\n",
      "Epoch 10/200\n",
      "400000/400000 [==============================] - 107s 267us/step - loss: 0.6453 - val_loss: 0.6424\n",
      "Epoch 11/200\n",
      "400000/400000 [==============================] - 107s 267us/step - loss: 0.6450 - val_loss: 0.6406\n",
      "Epoch 12/200\n",
      "400000/400000 [==============================] - 107s 267us/step - loss: 0.6445 - val_loss: 0.6419\n",
      "Epoch 13/200\n",
      "400000/400000 [==============================] - 107s 267us/step - loss: 0.6440 - val_loss: 0.6399\n",
      "Epoch 14/200\n",
      "400000/400000 [==============================] - 107s 267us/step - loss: 0.6432 - val_loss: 0.6400\n",
      "Epoch 15/200\n",
      "400000/400000 [==============================] - 107s 267us/step - loss: 0.6427 - val_loss: 0.6400\n",
      "Epoch 16/200\n",
      "400000/400000 [==============================] - 107s 267us/step - loss: 0.6428 - val_loss: 0.6404\n",
      "Epoch 17/200\n",
      "400000/400000 [==============================] - 107s 268us/step - loss: 0.6420 - val_loss: 0.6391\n",
      "Epoch 18/200\n",
      "400000/400000 [==============================] - 107s 267us/step - loss: 0.6415 - val_loss: 0.6386\n",
      "Epoch 19/200\n",
      "400000/400000 [==============================] - 107s 267us/step - loss: 0.6409 - val_loss: 0.6373\n",
      "Epoch 20/200\n",
      "400000/400000 [==============================] - 107s 267us/step - loss: 0.6404 - val_loss: 0.6401\n",
      "Epoch 21/200\n",
      "400000/400000 [==============================] - 107s 267us/step - loss: 0.6398 - val_loss: 0.6384\n",
      "Epoch 22/200\n",
      "400000/400000 [==============================] - 107s 267us/step - loss: 0.6390 - val_loss: 0.6352\n",
      "Epoch 23/200\n",
      "400000/400000 [==============================] - 107s 268us/step - loss: 0.6378 - val_loss: 0.6338\n",
      "Epoch 24/200\n",
      "400000/400000 [==============================] - 107s 267us/step - loss: 0.6360 - val_loss: 0.6326\n",
      "Epoch 25/200\n",
      "400000/400000 [==============================] - 107s 267us/step - loss: 0.6348 - val_loss: 0.6268\n",
      "Epoch 26/200\n",
      "  2500/400000 [..............................] - ETA: 1:49 - loss: 0.6364"
     ]
    },
    {
     "ename": "KeyboardInterrupt",
     "evalue": "",
     "output_type": "error",
     "traceback": [
      "\u001b[0;31m---------------------------------------------------------------------------\u001b[0m",
      "\u001b[0;31mKeyboardInterrupt\u001b[0m                         Traceback (most recent call last)",
      "\u001b[0;32m<ipython-input-11-9305aadfc87e>\u001b[0m in \u001b[0;36m<module>\u001b[0;34m\u001b[0m\n\u001b[0;32m----> 1\u001b[0;31m \u001b[0mmodel\u001b[0m\u001b[0;34m.\u001b[0m\u001b[0mfit\u001b[0m\u001b[0;34m(\u001b[0m\u001b[0mtrain_data\u001b[0m\u001b[0;34m,\u001b[0m\u001b[0mtrain_labels\u001b[0m\u001b[0;34m,\u001b[0m\u001b[0mepochs\u001b[0m\u001b[0;34m=\u001b[0m\u001b[0;36m200\u001b[0m\u001b[0;34m,\u001b[0m\u001b[0mbatch_size\u001b[0m\u001b[0;34m=\u001b[0m\u001b[0;36m100\u001b[0m\u001b[0;34m,\u001b[0m\u001b[0mvalidation_data\u001b[0m\u001b[0;34m=\u001b[0m\u001b[0;34m(\u001b[0m\u001b[0mvalid_data\u001b[0m\u001b[0;34m,\u001b[0m\u001b[0mvalid_labels\u001b[0m\u001b[0;34m)\u001b[0m\u001b[0;34m)\u001b[0m\u001b[0;34m\u001b[0m\u001b[0m\n\u001b[0m",
      "\u001b[0;32m~/EMD-VAE/env_END-VAE/lib/python3.5/site-packages/keras/engine/training.py\u001b[0m in \u001b[0;36mfit\u001b[0;34m(self, x, y, batch_size, epochs, verbose, callbacks, validation_split, validation_data, shuffle, class_weight, sample_weight, initial_epoch, steps_per_epoch, validation_steps, **kwargs)\u001b[0m\n\u001b[1;32m   1037\u001b[0m                                         \u001b[0minitial_epoch\u001b[0m\u001b[0;34m=\u001b[0m\u001b[0minitial_epoch\u001b[0m\u001b[0;34m,\u001b[0m\u001b[0;34m\u001b[0m\u001b[0m\n\u001b[1;32m   1038\u001b[0m                                         \u001b[0msteps_per_epoch\u001b[0m\u001b[0;34m=\u001b[0m\u001b[0msteps_per_epoch\u001b[0m\u001b[0;34m,\u001b[0m\u001b[0;34m\u001b[0m\u001b[0m\n\u001b[0;32m-> 1039\u001b[0;31m                                         validation_steps=validation_steps)\n\u001b[0m\u001b[1;32m   1040\u001b[0m \u001b[0;34m\u001b[0m\u001b[0m\n\u001b[1;32m   1041\u001b[0m     def evaluate(self, x=None, y=None,\n",
      "\u001b[0;32m~/EMD-VAE/env_END-VAE/lib/python3.5/site-packages/keras/engine/training_arrays.py\u001b[0m in \u001b[0;36mfit_loop\u001b[0;34m(model, f, ins, out_labels, batch_size, epochs, verbose, callbacks, val_f, val_ins, shuffle, callback_metrics, initial_epoch, steps_per_epoch, validation_steps)\u001b[0m\n\u001b[1;32m    197\u001b[0m                     \u001b[0mins_batch\u001b[0m\u001b[0;34m[\u001b[0m\u001b[0mi\u001b[0m\u001b[0;34m]\u001b[0m \u001b[0;34m=\u001b[0m \u001b[0mins_batch\u001b[0m\u001b[0;34m[\u001b[0m\u001b[0mi\u001b[0m\u001b[0;34m]\u001b[0m\u001b[0;34m.\u001b[0m\u001b[0mtoarray\u001b[0m\u001b[0;34m(\u001b[0m\u001b[0;34m)\u001b[0m\u001b[0;34m\u001b[0m\u001b[0m\n\u001b[1;32m    198\u001b[0m \u001b[0;34m\u001b[0m\u001b[0m\n\u001b[0;32m--> 199\u001b[0;31m                 \u001b[0mouts\u001b[0m \u001b[0;34m=\u001b[0m \u001b[0mf\u001b[0m\u001b[0;34m(\u001b[0m\u001b[0mins_batch\u001b[0m\u001b[0;34m)\u001b[0m\u001b[0;34m\u001b[0m\u001b[0m\n\u001b[0m\u001b[1;32m    200\u001b[0m                 \u001b[0mouts\u001b[0m \u001b[0;34m=\u001b[0m \u001b[0mto_list\u001b[0m\u001b[0;34m(\u001b[0m\u001b[0mouts\u001b[0m\u001b[0;34m)\u001b[0m\u001b[0;34m\u001b[0m\u001b[0m\n\u001b[1;32m    201\u001b[0m                 \u001b[0;32mfor\u001b[0m \u001b[0ml\u001b[0m\u001b[0;34m,\u001b[0m \u001b[0mo\u001b[0m \u001b[0;32min\u001b[0m \u001b[0mzip\u001b[0m\u001b[0;34m(\u001b[0m\u001b[0mout_labels\u001b[0m\u001b[0;34m,\u001b[0m \u001b[0mouts\u001b[0m\u001b[0;34m)\u001b[0m\u001b[0;34m:\u001b[0m\u001b[0;34m\u001b[0m\u001b[0m\n",
      "\u001b[0;32m~/EMD-VAE/env_END-VAE/lib/python3.5/site-packages/keras/backend/tensorflow_backend.py\u001b[0m in \u001b[0;36m__call__\u001b[0;34m(self, inputs)\u001b[0m\n\u001b[1;32m   2713\u001b[0m                 \u001b[0;32mreturn\u001b[0m \u001b[0mself\u001b[0m\u001b[0;34m.\u001b[0m\u001b[0m_legacy_call\u001b[0m\u001b[0;34m(\u001b[0m\u001b[0minputs\u001b[0m\u001b[0;34m)\u001b[0m\u001b[0;34m\u001b[0m\u001b[0m\n\u001b[1;32m   2714\u001b[0m \u001b[0;34m\u001b[0m\u001b[0m\n\u001b[0;32m-> 2715\u001b[0;31m             \u001b[0;32mreturn\u001b[0m \u001b[0mself\u001b[0m\u001b[0;34m.\u001b[0m\u001b[0m_call\u001b[0m\u001b[0;34m(\u001b[0m\u001b[0minputs\u001b[0m\u001b[0;34m)\u001b[0m\u001b[0;34m\u001b[0m\u001b[0m\n\u001b[0m\u001b[1;32m   2716\u001b[0m         \u001b[0;32melse\u001b[0m\u001b[0;34m:\u001b[0m\u001b[0;34m\u001b[0m\u001b[0m\n\u001b[1;32m   2717\u001b[0m             \u001b[0;32mif\u001b[0m \u001b[0mpy_any\u001b[0m\u001b[0;34m(\u001b[0m\u001b[0mis_tensor\u001b[0m\u001b[0;34m(\u001b[0m\u001b[0mx\u001b[0m\u001b[0;34m)\u001b[0m \u001b[0;32mfor\u001b[0m \u001b[0mx\u001b[0m \u001b[0;32min\u001b[0m \u001b[0minputs\u001b[0m\u001b[0;34m)\u001b[0m\u001b[0;34m:\u001b[0m\u001b[0;34m\u001b[0m\u001b[0m\n",
      "\u001b[0;32m~/EMD-VAE/env_END-VAE/lib/python3.5/site-packages/keras/backend/tensorflow_backend.py\u001b[0m in \u001b[0;36m_call\u001b[0;34m(self, inputs)\u001b[0m\n\u001b[1;32m   2673\u001b[0m             \u001b[0mfetched\u001b[0m \u001b[0;34m=\u001b[0m \u001b[0mself\u001b[0m\u001b[0;34m.\u001b[0m\u001b[0m_callable_fn\u001b[0m\u001b[0;34m(\u001b[0m\u001b[0;34m*\u001b[0m\u001b[0marray_vals\u001b[0m\u001b[0;34m,\u001b[0m \u001b[0mrun_metadata\u001b[0m\u001b[0;34m=\u001b[0m\u001b[0mself\u001b[0m\u001b[0;34m.\u001b[0m\u001b[0mrun_metadata\u001b[0m\u001b[0;34m)\u001b[0m\u001b[0;34m\u001b[0m\u001b[0m\n\u001b[1;32m   2674\u001b[0m         \u001b[0;32melse\u001b[0m\u001b[0;34m:\u001b[0m\u001b[0;34m\u001b[0m\u001b[0m\n\u001b[0;32m-> 2675\u001b[0;31m             \u001b[0mfetched\u001b[0m \u001b[0;34m=\u001b[0m \u001b[0mself\u001b[0m\u001b[0;34m.\u001b[0m\u001b[0m_callable_fn\u001b[0m\u001b[0;34m(\u001b[0m\u001b[0;34m*\u001b[0m\u001b[0marray_vals\u001b[0m\u001b[0;34m)\u001b[0m\u001b[0;34m\u001b[0m\u001b[0m\n\u001b[0m\u001b[1;32m   2676\u001b[0m         \u001b[0;32mreturn\u001b[0m \u001b[0mfetched\u001b[0m\u001b[0;34m[\u001b[0m\u001b[0;34m:\u001b[0m\u001b[0mlen\u001b[0m\u001b[0;34m(\u001b[0m\u001b[0mself\u001b[0m\u001b[0;34m.\u001b[0m\u001b[0moutputs\u001b[0m\u001b[0;34m)\u001b[0m\u001b[0;34m]\u001b[0m\u001b[0;34m\u001b[0m\u001b[0m\n\u001b[1;32m   2677\u001b[0m \u001b[0;34m\u001b[0m\u001b[0m\n",
      "\u001b[0;32m~/EMD-VAE/env_END-VAE/lib/python3.5/site-packages/tensorflow/python/client/session.py\u001b[0m in \u001b[0;36m__call__\u001b[0;34m(self, *args)\u001b[0m\n\u001b[1;32m   1449\u001b[0m         \u001b[0;32mif\u001b[0m \u001b[0mself\u001b[0m\u001b[0;34m.\u001b[0m\u001b[0m_session\u001b[0m\u001b[0;34m.\u001b[0m\u001b[0m_created_with_new_api\u001b[0m\u001b[0;34m:\u001b[0m\u001b[0;34m\u001b[0m\u001b[0m\n\u001b[1;32m   1450\u001b[0m           return tf_session.TF_SessionRunCallable(\n\u001b[0;32m-> 1451\u001b[0;31m               self._session._session, self._handle, args, status, None)\n\u001b[0m\u001b[1;32m   1452\u001b[0m         \u001b[0;32melse\u001b[0m\u001b[0;34m:\u001b[0m\u001b[0;34m\u001b[0m\u001b[0m\n\u001b[1;32m   1453\u001b[0m           return tf_session.TF_DeprecatedSessionRunCallable(\n",
      "\u001b[0;31mKeyboardInterrupt\u001b[0m: "
     ]
    }
   ],
   "source": [
    "model.fit(train_data,train_labels,epochs=200,batch_size=100,validation_data=(valid_data,valid_labels))"
   ]
  },
  {
   "cell_type": "code",
   "execution_count": null,
   "metadata": {},
   "outputs": [
    {
     "name": "stdout",
     "output_type": "stream",
     "text": [
      "Train on 400000 samples, validate on 20000 samples\n",
      "Epoch 1/200\n",
      "400000/400000 [==============================] - 106s 265us/step - loss: 0.6321 - val_loss: 0.6238\n",
      "Epoch 2/200\n",
      "400000/400000 [==============================] - 107s 267us/step - loss: 0.6281 - val_loss: 0.6210\n",
      "Epoch 3/200\n",
      "400000/400000 [==============================] - 107s 268us/step - loss: 0.6245 - val_loss: 0.6228\n",
      "Epoch 4/200\n",
      "400000/400000 [==============================] - 107s 268us/step - loss: 0.6221 - val_loss: 0.6077\n",
      "Epoch 5/200\n",
      "400000/400000 [==============================] - 107s 268us/step - loss: 0.6187 - val_loss: 0.6111\n",
      "Epoch 6/200\n",
      "400000/400000 [==============================] - 107s 269us/step - loss: 0.6183 - val_loss: 0.6126\n",
      "Epoch 7/200\n",
      "400000/400000 [==============================] - 108s 269us/step - loss: 0.6157 - val_loss: 0.6020\n",
      "Epoch 8/200\n",
      "400000/400000 [==============================] - 108s 269us/step - loss: 0.6141 - val_loss: 0.6092\n",
      "Epoch 9/200\n",
      "400000/400000 [==============================] - 107s 268us/step - loss: 0.6134 - val_loss: 0.6080\n",
      "Epoch 10/200\n",
      "400000/400000 [==============================] - 107s 268us/step - loss: 0.6126 - val_loss: 0.6087\n",
      "Epoch 11/200\n",
      "400000/400000 [==============================] - 107s 268us/step - loss: 0.6119 - val_loss: 0.6059\n",
      "Epoch 12/200\n",
      "400000/400000 [==============================] - 107s 268us/step - loss: 0.6108 - val_loss: 0.6094\n",
      "Epoch 13/200\n",
      "400000/400000 [==============================] - 107s 268us/step - loss: 0.6086 - val_loss: 0.6026\n",
      "Epoch 15/200\n",
      "319200/400000 [======================>.......] - ETA: 21s - loss: 0.6074"
     ]
    },
    {
     "name": "stderr",
     "output_type": "stream",
     "text": [
      "IOPub message rate exceeded.\n",
      "The notebook server will temporarily stop sending output\n",
      "to the client in order to avoid crashing it.\n",
      "To change this limit, set the config variable\n",
      "`--NotebookApp.iopub_msg_rate_limit`.\n",
      "\n",
      "Current values:\n",
      "NotebookApp.iopub_msg_rate_limit=1000.0 (msgs/sec)\n",
      "NotebookApp.rate_limit_window=3.0 (secs)\n",
      "\n"
     ]
    },
    {
     "name": "stdout",
     "output_type": "stream",
     "text": [
      "400000/400000 [==============================] - 107s 268us/step - loss: 0.6076 - val_loss: 0.5992\n",
      "Epoch 17/200\n",
      "400000/400000 [==============================] - 107s 267us/step - loss: 0.5953 - val_loss: 0.5888\n",
      "400000/400000 [==============================] - 107s 267us/step - loss: 0.5953 - val_loss: 0.5888\n",
      "Epoch 45/200\n",
      "   100/400000 [..............................] - ETA: 2:51 - loss: 0.6305Epoch 45/200\n",
      "400000/400000 [==============================] - 107s 267us/step - loss: 0.5952 - val_loss: 0.5867\n",
      "400000/400000 [==============================] - 107s 267us/step - loss: 0.5952 - val_loss: 0.5867\n",
      "Epoch 46/200\n",
      "   100/400000 [..............................] - ETA: 2:37 - loss: 0.7007Epoch 46/200\n",
      "400000/400000 [==============================] - 107s 268us/step - loss: 0.5948 - val_loss: 0.5875\n",
      "Epoch 47/200\n",
      "400000/400000 [==============================] - 107s 268us/step - loss: 0.5948 - val_loss: 0.5875\n",
      "   300/400000 [..............................] - ETA: 2:08 - loss: 0.5610Epoch 47/200\n",
      "400000/400000 [==============================] - 107s 267us/step - loss: 0.5957 - val_loss: 0.5896\n",
      "400000/400000 [==============================] - 107s 267us/step - loss: 0.5957 - val_loss: 0.5896\n",
      "Epoch 48/200\n",
      "   100/400000 [..............................] - ETA: 3:18 - loss: 0.5788Epoch 48/200\n",
      "400000/400000 [==============================] - 107s 267us/step - loss: 0.5941 - val_loss: 0.5875\n",
      "400000/400000 [==============================] - 107s 267us/step - loss: 0.5941 - val_loss: 0.5875\n",
      "Epoch 49/200\n",
      "   100/400000 [..............................] - ETA: 2:49 - loss: 0.5974Epoch 49/200\n",
      "400000/400000 [==============================] - 107s 267us/step - loss: 0.5942 - val_loss: 0.5923\n",
      "400000/400000 [==============================] - 107s 267us/step - loss: 0.5942 - val_loss: 0.5923\n",
      "Epoch 50/200\n",
      "   100/400000 [..............................] - ETA: 2:45 - loss: 0.6115Epoch 50/200\n",
      "400000/400000 [==============================] - 107s 268us/step - loss: 0.5940 - val_loss: 0.5899\n",
      "400000/400000 [==============================] - 107s 268us/step - loss: 0.5940 - val_loss: 0.5899\n",
      "Epoch 51/200\n",
      "   100/400000 [..............................] - ETA: 2:37 - loss: 0.6050Epoch 51/200\n",
      "400000/400000 [==============================] - 107s 267us/step - loss: 0.5939 - val_loss: 0.5905\n",
      "400000/400000 [==============================] - 107s 267us/step - loss: 0.5939 - val_loss: 0.5905\n",
      "Epoch 52/200\n",
      "   100/400000 [..............................] - ETA: 2:47 - loss: 0.5299Epoch 52/200\n",
      "400000/400000 [==============================] - 107s 268us/step - loss: 0.5937 - val_loss: 0.5842\n",
      "400000/400000 [==============================] - 107s 268us/step - loss: 0.5937 - val_loss: 0.5842\n",
      "Epoch 53/200\n",
      "   100/400000 [..............................] - ETA: 2:59 - loss: 0.5662Epoch 53/200\n",
      "400000/400000 [==============================] - 107s 268us/step - loss: 0.5933 - val_loss: 0.5836\n",
      "400000/400000 [==============================] - 107s 268us/step - loss: 0.5933 - val_loss: 0.5836\n",
      "Epoch 54/200\n",
      "   100/400000 [..............................] - ETA: 2:35 - loss: 0.5290Epoch 54/200\n",
      "400000/400000 [==============================] - 107s 268us/step - loss: 0.5933 - val_loss: 0.5854\n",
      "Epoch 55/200\n",
      "400000/400000 [==============================] - 107s 268us/step - loss: 0.5933 - val_loss: 0.5854\n",
      "Epoch 55/200\n",
      "400000/400000 [==============================] - 107s 268us/step - loss: 0.5926 - val_loss: 0.5871\n",
      "400000/400000 [==============================] - 107s 268us/step - loss: 0.5926 - val_loss: 0.5871\n",
      "Epoch 56/200\n",
      "   100/400000 [..............................] - ETA: 2:38 - loss: 0.5641Epoch 56/200\n",
      "400000/400000 [==============================] - 107s 267us/step - loss: 0.5926 - val_loss: 0.5859\n",
      "400000/400000 [==============================] - 107s 267us/step - loss: 0.5926 - val_loss: 0.5859\n",
      "Epoch 57/200\n",
      "   100/400000 [..............................] - ETA: 3:08 - loss: 0.6414Epoch 57/200\n",
      "400000/400000 [==============================] - 107s 267us/step - loss: 0.5926 - val_loss: 0.5909\n",
      "400000/400000 [==============================] - 107s 267us/step - loss: 0.5926 - val_loss: 0.5909\n",
      "Epoch 58/200\n",
      "   100/400000 [..............................] - ETA: 3:00 - loss: 0.5664Epoch 58/200\n",
      "400000/400000 [==============================] - 107s 268us/step - loss: 0.5917 - val_loss: 0.5955\n",
      "400000/400000 [==============================] - 107s 268us/step - loss: 0.5917 - val_loss: 0.5955\n",
      "Epoch 59/200\n",
      "   100/400000 [..............................] - ETA: 2:54 - loss: 0.6381Epoch 59/200\n",
      "400000/400000 [==============================] - 107s 268us/step - loss: 0.5919 - val_loss: 0.5898\n",
      "400000/400000 [==============================] - 107s 268us/step - loss: 0.5919 - val_loss: 0.5898\n",
      "Epoch 60/200\n",
      "   100/400000 [..............................] - ETA: 2:53 - loss: 0.5952Epoch 60/200\n",
      "400000/400000 [==============================] - 107s 268us/step - loss: 0.5913 - val_loss: 0.5872\n",
      "400000/400000 [==============================] - 107s 268us/step - loss: 0.5913 - val_loss: 0.5872\n",
      "Epoch 61/200\n",
      "   100/400000 [..............................] - ETA: 2:38 - loss: 0.5554Epoch 61/200\n",
      "400000/400000 [==============================] - 107s 268us/step - loss: 0.5915 - val_loss: 0.5829\n",
      "400000/400000 [==============================] - 107s 268us/step - loss: 0.5915 - val_loss: 0.5829\n",
      "Epoch 62/200\n",
      "   100/400000 [..............................] - ETA: 2:51 - loss: 0.5637Epoch 62/200\n",
      "400000/400000 [==============================] - 107s 268us/step - loss: 0.5912 - val_loss: 0.5873\n",
      "400000/400000 [==============================] - 107s 268us/step - loss: 0.5912 - val_loss: 0.5873\n",
      "Epoch 63/200\n",
      "   100/400000 [..............................] - ETA: 2:49 - loss: 0.5650Epoch 63/200\n",
      "400000/400000 [==============================] - 107s 268us/step - loss: 0.5914 - val_loss: 0.5873\n",
      "400000/400000 [==============================] - 107s 268us/step - loss: 0.5914 - val_loss: 0.5873\n",
      "Epoch 64/200\n",
      "   100/400000 [..............................] - ETA: 3:02 - loss: 0.5700Epoch 64/200\n",
      "400000/400000 [==============================] - 107s 267us/step - loss: 0.5905 - val_loss: 0.5938\n",
      "400000/400000 [==============================] - 107s 267us/step - loss: 0.5905 - val_loss: 0.5938\n",
      "Epoch 65/200\n",
      "   100/400000 [..............................] - ETA: 2:59 - loss: 0.6230Epoch 65/200\n",
      "400000/400000 [==============================] - 107s 267us/step - loss: 0.5915 - val_loss: 0.5851\n",
      "400000/400000 [==============================] - 107s 267us/step - loss: 0.5915 - val_loss: 0.5851\n",
      "Epoch 66/200\n",
      "   100/400000 [..............................] - ETA: 2:42 - loss: 0.5533Epoch 66/200\n",
      "400000/400000 [==============================] - 107s 267us/step - loss: 0.5908 - val_loss: 0.5880\n",
      "400000/400000 [==============================] - 107s 267us/step - loss: 0.5908 - val_loss: 0.5880\n",
      "Epoch 67/200\n",
      "   100/400000 [..............................] - ETA: 3:02 - loss: 0.6225Epoch 67/200\n",
      "400000/400000 [==============================] - 107s 268us/step - loss: 0.5906 - val_loss: 0.5858\n",
      "400000/400000 [==============================] - 107s 268us/step - loss: 0.5906 - val_loss: 0.5858\n",
      "Epoch 68/200\n",
      "   100/400000 [..............................] - ETA: 2:49 - loss: 0.6207Epoch 68/200\n",
      "400000/400000 [==============================] - 107s 267us/step - loss: 0.5902 - val_loss: 0.5872\n",
      "400000/400000 [==============================] - 107s 267us/step - loss: 0.5902 - val_loss: 0.5872\n",
      "Epoch 69/200\n",
      "   100/400000 [..............................] - ETA: 2:45 - loss: 0.6194Epoch 69/200\n",
      "400000/400000 [==============================] - 107s 267us/step - loss: 0.5900 - val_loss: 0.5842\n",
      "400000/400000 [==============================] - 107s 267us/step - loss: 0.5900 - val_loss: 0.5842\n",
      "Epoch 70/200\n",
      "   100/400000 [..............................] - ETA: 3:01 - loss: 0.5738Epoch 70/200\n",
      "183600/400000 [============>.................] - ETA: 56s - loss: 0.5904"
     ]
    }
   ],
   "source": [
    "def create_dir(dir_path):\n",
    "    ''' Creates a directory (or nested directories) if they don't exist.\n",
    "    '''\n",
    "    if not osp.exists(dir_path):\n",
    "        os.makedirs(dir_path)\n",
    "\n",
    "    return dir_path\n",
    "\n",
    "save_period = 5\n",
    "epochs = 200\n",
    "\n",
    "output_dir = './models/'\n",
    "experiment_name = 'hardest_jet_1'\n",
    "\n",
    "train_output_dir = create_dir(osp.join(output_dir, experiment_name))\n",
    "modelcheckpoint = keras.callbacks.ModelCheckpoint(train_output_dir + '/model_{epoch:02d}-{val_loss:.2e}.hdf5', period = save_period)\n",
    "\n",
    "callbacks = [modelcheckpoint]\n",
    "\n",
    "model.fit(train_data,train_labels,epochs=epochs,batch_size=100,validation_data=(valid_data,valid_labels),\n",
    "         callbacks = callbacks)"
   ]
  },
  {
   "cell_type": "code",
   "execution_count": 10,
   "metadata": {},
   "outputs": [
    {
     "name": "stdout",
     "output_type": "stream",
     "text": [
      "Train on 400000 samples, validate on 20000 samples\n",
      "Epoch 1/200\n",
      "400000/400000 [==============================] - 97s 243us/step - loss: 0.6665 - val_loss: 0.6630\n",
      "Epoch 2/200\n",
      "400000/400000 [==============================] - 97s 242us/step - loss: 0.6642 - val_loss: 0.6600\n",
      "Epoch 3/200\n",
      " 16000/400000 [>.............................] - ETA: 1:32 - loss: 0.6582"
     ]
    },
    {
     "ename": "KeyboardInterrupt",
     "evalue": "",
     "output_type": "error",
     "traceback": [
      "\u001b[0;31m---------------------------------------------------------------------------\u001b[0m",
      "\u001b[0;31mKeyboardInterrupt\u001b[0m                         Traceback (most recent call last)",
      "\u001b[0;32m<ipython-input-10-bf2af66719bc>\u001b[0m in \u001b[0;36m<module>\u001b[0;34m\u001b[0m\n\u001b[0;32m----> 1\u001b[0;31m \u001b[0mmodel\u001b[0m\u001b[0;34m.\u001b[0m\u001b[0mfit\u001b[0m\u001b[0;34m(\u001b[0m\u001b[0mtrain_data\u001b[0m\u001b[0;34m,\u001b[0m\u001b[0mtrain_labels\u001b[0m\u001b[0;34m,\u001b[0m\u001b[0mepochs\u001b[0m\u001b[0;34m=\u001b[0m\u001b[0;36m200\u001b[0m\u001b[0;34m,\u001b[0m\u001b[0mbatch_size\u001b[0m\u001b[0;34m=\u001b[0m\u001b[0;36m1600\u001b[0m\u001b[0;34m,\u001b[0m\u001b[0mvalidation_data\u001b[0m\u001b[0;34m=\u001b[0m\u001b[0;34m(\u001b[0m\u001b[0mvalid_data\u001b[0m\u001b[0;34m,\u001b[0m\u001b[0mvalid_labels\u001b[0m\u001b[0;34m)\u001b[0m\u001b[0;34m)\u001b[0m\u001b[0;34m\u001b[0m\u001b[0m\n\u001b[0m",
      "\u001b[0;32m~/EMD-VAE/env_END-VAE/lib/python3.5/site-packages/keras/engine/training.py\u001b[0m in \u001b[0;36mfit\u001b[0;34m(self, x, y, batch_size, epochs, verbose, callbacks, validation_split, validation_data, shuffle, class_weight, sample_weight, initial_epoch, steps_per_epoch, validation_steps, **kwargs)\u001b[0m\n\u001b[1;32m   1037\u001b[0m                                         \u001b[0minitial_epoch\u001b[0m\u001b[0;34m=\u001b[0m\u001b[0minitial_epoch\u001b[0m\u001b[0;34m,\u001b[0m\u001b[0;34m\u001b[0m\u001b[0m\n\u001b[1;32m   1038\u001b[0m                                         \u001b[0msteps_per_epoch\u001b[0m\u001b[0;34m=\u001b[0m\u001b[0msteps_per_epoch\u001b[0m\u001b[0;34m,\u001b[0m\u001b[0;34m\u001b[0m\u001b[0m\n\u001b[0;32m-> 1039\u001b[0;31m                                         validation_steps=validation_steps)\n\u001b[0m\u001b[1;32m   1040\u001b[0m \u001b[0;34m\u001b[0m\u001b[0m\n\u001b[1;32m   1041\u001b[0m     def evaluate(self, x=None, y=None,\n",
      "\u001b[0;32m~/EMD-VAE/env_END-VAE/lib/python3.5/site-packages/keras/engine/training_arrays.py\u001b[0m in \u001b[0;36mfit_loop\u001b[0;34m(model, f, ins, out_labels, batch_size, epochs, verbose, callbacks, val_f, val_ins, shuffle, callback_metrics, initial_epoch, steps_per_epoch, validation_steps)\u001b[0m\n\u001b[1;32m    197\u001b[0m                     \u001b[0mins_batch\u001b[0m\u001b[0;34m[\u001b[0m\u001b[0mi\u001b[0m\u001b[0;34m]\u001b[0m \u001b[0;34m=\u001b[0m \u001b[0mins_batch\u001b[0m\u001b[0;34m[\u001b[0m\u001b[0mi\u001b[0m\u001b[0;34m]\u001b[0m\u001b[0;34m.\u001b[0m\u001b[0mtoarray\u001b[0m\u001b[0;34m(\u001b[0m\u001b[0;34m)\u001b[0m\u001b[0;34m\u001b[0m\u001b[0m\n\u001b[1;32m    198\u001b[0m \u001b[0;34m\u001b[0m\u001b[0m\n\u001b[0;32m--> 199\u001b[0;31m                 \u001b[0mouts\u001b[0m \u001b[0;34m=\u001b[0m \u001b[0mf\u001b[0m\u001b[0;34m(\u001b[0m\u001b[0mins_batch\u001b[0m\u001b[0;34m)\u001b[0m\u001b[0;34m\u001b[0m\u001b[0m\n\u001b[0m\u001b[1;32m    200\u001b[0m                 \u001b[0mouts\u001b[0m \u001b[0;34m=\u001b[0m \u001b[0mto_list\u001b[0m\u001b[0;34m(\u001b[0m\u001b[0mouts\u001b[0m\u001b[0;34m)\u001b[0m\u001b[0;34m\u001b[0m\u001b[0m\n\u001b[1;32m    201\u001b[0m                 \u001b[0;32mfor\u001b[0m \u001b[0ml\u001b[0m\u001b[0;34m,\u001b[0m \u001b[0mo\u001b[0m \u001b[0;32min\u001b[0m \u001b[0mzip\u001b[0m\u001b[0;34m(\u001b[0m\u001b[0mout_labels\u001b[0m\u001b[0;34m,\u001b[0m \u001b[0mouts\u001b[0m\u001b[0;34m)\u001b[0m\u001b[0;34m:\u001b[0m\u001b[0;34m\u001b[0m\u001b[0m\n",
      "\u001b[0;32m~/EMD-VAE/env_END-VAE/lib/python3.5/site-packages/keras/backend/tensorflow_backend.py\u001b[0m in \u001b[0;36m__call__\u001b[0;34m(self, inputs)\u001b[0m\n\u001b[1;32m   2713\u001b[0m                 \u001b[0;32mreturn\u001b[0m \u001b[0mself\u001b[0m\u001b[0;34m.\u001b[0m\u001b[0m_legacy_call\u001b[0m\u001b[0;34m(\u001b[0m\u001b[0minputs\u001b[0m\u001b[0;34m)\u001b[0m\u001b[0;34m\u001b[0m\u001b[0m\n\u001b[1;32m   2714\u001b[0m \u001b[0;34m\u001b[0m\u001b[0m\n\u001b[0;32m-> 2715\u001b[0;31m             \u001b[0;32mreturn\u001b[0m \u001b[0mself\u001b[0m\u001b[0;34m.\u001b[0m\u001b[0m_call\u001b[0m\u001b[0;34m(\u001b[0m\u001b[0minputs\u001b[0m\u001b[0;34m)\u001b[0m\u001b[0;34m\u001b[0m\u001b[0m\n\u001b[0m\u001b[1;32m   2716\u001b[0m         \u001b[0;32melse\u001b[0m\u001b[0;34m:\u001b[0m\u001b[0;34m\u001b[0m\u001b[0m\n\u001b[1;32m   2717\u001b[0m             \u001b[0;32mif\u001b[0m \u001b[0mpy_any\u001b[0m\u001b[0;34m(\u001b[0m\u001b[0mis_tensor\u001b[0m\u001b[0;34m(\u001b[0m\u001b[0mx\u001b[0m\u001b[0;34m)\u001b[0m \u001b[0;32mfor\u001b[0m \u001b[0mx\u001b[0m \u001b[0;32min\u001b[0m \u001b[0minputs\u001b[0m\u001b[0;34m)\u001b[0m\u001b[0;34m:\u001b[0m\u001b[0;34m\u001b[0m\u001b[0m\n",
      "\u001b[0;32m~/EMD-VAE/env_END-VAE/lib/python3.5/site-packages/keras/backend/tensorflow_backend.py\u001b[0m in \u001b[0;36m_call\u001b[0;34m(self, inputs)\u001b[0m\n\u001b[1;32m   2653\u001b[0m                 array_vals.append(\n\u001b[1;32m   2654\u001b[0m                     np.asarray(value,\n\u001b[0;32m-> 2655\u001b[0;31m                                dtype=tf.as_dtype(tensor.dtype).as_numpy_dtype))\n\u001b[0m\u001b[1;32m   2656\u001b[0m         \u001b[0;32mif\u001b[0m \u001b[0mself\u001b[0m\u001b[0;34m.\u001b[0m\u001b[0mfeed_dict\u001b[0m\u001b[0;34m:\u001b[0m\u001b[0;34m\u001b[0m\u001b[0m\n\u001b[1;32m   2657\u001b[0m             \u001b[0;32mfor\u001b[0m \u001b[0mkey\u001b[0m \u001b[0;32min\u001b[0m \u001b[0msorted\u001b[0m\u001b[0;34m(\u001b[0m\u001b[0mself\u001b[0m\u001b[0;34m.\u001b[0m\u001b[0mfeed_dict\u001b[0m\u001b[0;34m.\u001b[0m\u001b[0mkeys\u001b[0m\u001b[0;34m(\u001b[0m\u001b[0;34m)\u001b[0m\u001b[0;34m)\u001b[0m\u001b[0;34m:\u001b[0m\u001b[0;34m\u001b[0m\u001b[0m\n",
      "\u001b[0;32m~/EMD-VAE/env_END-VAE/lib/python3.5/site-packages/numpy/core/numeric.py\u001b[0m in \u001b[0;36masarray\u001b[0;34m(a, dtype, order)\u001b[0m\n\u001b[1;32m    536\u001b[0m \u001b[0;34m\u001b[0m\u001b[0m\n\u001b[1;32m    537\u001b[0m     \"\"\"\n\u001b[0;32m--> 538\u001b[0;31m     \u001b[0;32mreturn\u001b[0m \u001b[0marray\u001b[0m\u001b[0;34m(\u001b[0m\u001b[0ma\u001b[0m\u001b[0;34m,\u001b[0m \u001b[0mdtype\u001b[0m\u001b[0;34m,\u001b[0m \u001b[0mcopy\u001b[0m\u001b[0;34m=\u001b[0m\u001b[0;32mFalse\u001b[0m\u001b[0;34m,\u001b[0m \u001b[0morder\u001b[0m\u001b[0;34m=\u001b[0m\u001b[0morder\u001b[0m\u001b[0;34m)\u001b[0m\u001b[0;34m\u001b[0m\u001b[0m\n\u001b[0m\u001b[1;32m    539\u001b[0m \u001b[0;34m\u001b[0m\u001b[0m\n\u001b[1;32m    540\u001b[0m \u001b[0;34m\u001b[0m\u001b[0m\n",
      "\u001b[0;31mKeyboardInterrupt\u001b[0m: "
     ]
    }
   ],
   "source": [
    "model.fit(train_data,train_labels,epochs=200,batch_size=1600,validation_data=(valid_data,valid_labels))"
   ]
  },
  {
   "cell_type": "code",
   "execution_count": 73,
   "metadata": {},
   "outputs": [
    {
     "name": "stdout",
     "output_type": "stream",
     "text": [
      "Train on 400000 samples, validate on 20000 samples\n",
      "Epoch 1/200\n",
      "400000/400000 [==============================] - 106s 264us/step - loss: 0.6678 - val_loss: 0.6627\n",
      "Epoch 2/200\n",
      "400000/400000 [==============================] - 105s 263us/step - loss: 0.6616 - val_loss: 0.6589\n",
      "Epoch 3/200\n",
      "400000/400000 [==============================] - 105s 263us/step - loss: 0.6585 - val_loss: 0.6552\n",
      "Epoch 4/200\n",
      "400000/400000 [==============================] - 105s 263us/step - loss: 0.6539 - val_loss: 0.6517\n",
      "Epoch 5/200\n",
      "400000/400000 [==============================] - 105s 263us/step - loss: 0.6505 - val_loss: 0.6474\n",
      "Epoch 6/200\n",
      " 91800/400000 [=====>........................] - ETA: 1:19 - loss: 0.6492"
     ]
    },
    {
     "ename": "KeyboardInterrupt",
     "evalue": "",
     "output_type": "error",
     "traceback": [
      "\u001b[0;31m---------------------------------------------------------------------------\u001b[0m",
      "\u001b[0;31mKeyboardInterrupt\u001b[0m                         Traceback (most recent call last)",
      "\u001b[0;32m<ipython-input-73-36346a066bb7>\u001b[0m in \u001b[0;36m<module>\u001b[0;34m\u001b[0m\n\u001b[0;32m----> 1\u001b[0;31m \u001b[0mmodel\u001b[0m\u001b[0;34m.\u001b[0m\u001b[0mfit\u001b[0m\u001b[0;34m(\u001b[0m\u001b[0mtrain_data\u001b[0m\u001b[0;34m,\u001b[0m\u001b[0mtrain_labels\u001b[0m\u001b[0;34m,\u001b[0m\u001b[0mepochs\u001b[0m\u001b[0;34m=\u001b[0m\u001b[0;36m200\u001b[0m\u001b[0;34m,\u001b[0m\u001b[0mbatch_size\u001b[0m\u001b[0;34m=\u001b[0m\u001b[0;36m300\u001b[0m\u001b[0;34m,\u001b[0m\u001b[0mvalidation_data\u001b[0m\u001b[0;34m=\u001b[0m\u001b[0;34m(\u001b[0m\u001b[0mvalid_data\u001b[0m\u001b[0;34m,\u001b[0m\u001b[0mvalid_labels\u001b[0m\u001b[0;34m)\u001b[0m\u001b[0;34m)\u001b[0m\u001b[0;34m\u001b[0m\u001b[0m\n\u001b[0m",
      "\u001b[0;32m~/EMD-VAE/env_END-VAE/lib/python3.5/site-packages/keras/engine/training.py\u001b[0m in \u001b[0;36mfit\u001b[0;34m(self, x, y, batch_size, epochs, verbose, callbacks, validation_split, validation_data, shuffle, class_weight, sample_weight, initial_epoch, steps_per_epoch, validation_steps, **kwargs)\u001b[0m\n\u001b[1;32m   1037\u001b[0m                                         \u001b[0minitial_epoch\u001b[0m\u001b[0;34m=\u001b[0m\u001b[0minitial_epoch\u001b[0m\u001b[0;34m,\u001b[0m\u001b[0;34m\u001b[0m\u001b[0m\n\u001b[1;32m   1038\u001b[0m                                         \u001b[0msteps_per_epoch\u001b[0m\u001b[0;34m=\u001b[0m\u001b[0msteps_per_epoch\u001b[0m\u001b[0;34m,\u001b[0m\u001b[0;34m\u001b[0m\u001b[0m\n\u001b[0;32m-> 1039\u001b[0;31m                                         validation_steps=validation_steps)\n\u001b[0m\u001b[1;32m   1040\u001b[0m \u001b[0;34m\u001b[0m\u001b[0m\n\u001b[1;32m   1041\u001b[0m     def evaluate(self, x=None, y=None,\n",
      "\u001b[0;32m~/EMD-VAE/env_END-VAE/lib/python3.5/site-packages/keras/engine/training_arrays.py\u001b[0m in \u001b[0;36mfit_loop\u001b[0;34m(model, f, ins, out_labels, batch_size, epochs, verbose, callbacks, val_f, val_ins, shuffle, callback_metrics, initial_epoch, steps_per_epoch, validation_steps)\u001b[0m\n\u001b[1;32m    197\u001b[0m                     \u001b[0mins_batch\u001b[0m\u001b[0;34m[\u001b[0m\u001b[0mi\u001b[0m\u001b[0;34m]\u001b[0m \u001b[0;34m=\u001b[0m \u001b[0mins_batch\u001b[0m\u001b[0;34m[\u001b[0m\u001b[0mi\u001b[0m\u001b[0;34m]\u001b[0m\u001b[0;34m.\u001b[0m\u001b[0mtoarray\u001b[0m\u001b[0;34m(\u001b[0m\u001b[0;34m)\u001b[0m\u001b[0;34m\u001b[0m\u001b[0m\n\u001b[1;32m    198\u001b[0m \u001b[0;34m\u001b[0m\u001b[0m\n\u001b[0;32m--> 199\u001b[0;31m                 \u001b[0mouts\u001b[0m \u001b[0;34m=\u001b[0m \u001b[0mf\u001b[0m\u001b[0;34m(\u001b[0m\u001b[0mins_batch\u001b[0m\u001b[0;34m)\u001b[0m\u001b[0;34m\u001b[0m\u001b[0m\n\u001b[0m\u001b[1;32m    200\u001b[0m                 \u001b[0mouts\u001b[0m \u001b[0;34m=\u001b[0m \u001b[0mto_list\u001b[0m\u001b[0;34m(\u001b[0m\u001b[0mouts\u001b[0m\u001b[0;34m)\u001b[0m\u001b[0;34m\u001b[0m\u001b[0m\n\u001b[1;32m    201\u001b[0m                 \u001b[0;32mfor\u001b[0m \u001b[0ml\u001b[0m\u001b[0;34m,\u001b[0m \u001b[0mo\u001b[0m \u001b[0;32min\u001b[0m \u001b[0mzip\u001b[0m\u001b[0;34m(\u001b[0m\u001b[0mout_labels\u001b[0m\u001b[0;34m,\u001b[0m \u001b[0mouts\u001b[0m\u001b[0;34m)\u001b[0m\u001b[0;34m:\u001b[0m\u001b[0;34m\u001b[0m\u001b[0m\n",
      "\u001b[0;32m~/EMD-VAE/env_END-VAE/lib/python3.5/site-packages/keras/backend/tensorflow_backend.py\u001b[0m in \u001b[0;36m__call__\u001b[0;34m(self, inputs)\u001b[0m\n\u001b[1;32m   2713\u001b[0m                 \u001b[0;32mreturn\u001b[0m \u001b[0mself\u001b[0m\u001b[0;34m.\u001b[0m\u001b[0m_legacy_call\u001b[0m\u001b[0;34m(\u001b[0m\u001b[0minputs\u001b[0m\u001b[0;34m)\u001b[0m\u001b[0;34m\u001b[0m\u001b[0m\n\u001b[1;32m   2714\u001b[0m \u001b[0;34m\u001b[0m\u001b[0m\n\u001b[0;32m-> 2715\u001b[0;31m             \u001b[0;32mreturn\u001b[0m \u001b[0mself\u001b[0m\u001b[0;34m.\u001b[0m\u001b[0m_call\u001b[0m\u001b[0;34m(\u001b[0m\u001b[0minputs\u001b[0m\u001b[0;34m)\u001b[0m\u001b[0;34m\u001b[0m\u001b[0m\n\u001b[0m\u001b[1;32m   2716\u001b[0m         \u001b[0;32melse\u001b[0m\u001b[0;34m:\u001b[0m\u001b[0;34m\u001b[0m\u001b[0m\n\u001b[1;32m   2717\u001b[0m             \u001b[0;32mif\u001b[0m \u001b[0mpy_any\u001b[0m\u001b[0;34m(\u001b[0m\u001b[0mis_tensor\u001b[0m\u001b[0;34m(\u001b[0m\u001b[0mx\u001b[0m\u001b[0;34m)\u001b[0m \u001b[0;32mfor\u001b[0m \u001b[0mx\u001b[0m \u001b[0;32min\u001b[0m \u001b[0minputs\u001b[0m\u001b[0;34m)\u001b[0m\u001b[0;34m:\u001b[0m\u001b[0;34m\u001b[0m\u001b[0m\n",
      "\u001b[0;32m~/EMD-VAE/env_END-VAE/lib/python3.5/site-packages/keras/backend/tensorflow_backend.py\u001b[0m in \u001b[0;36m_call\u001b[0;34m(self, inputs)\u001b[0m\n\u001b[1;32m   2673\u001b[0m             \u001b[0mfetched\u001b[0m \u001b[0;34m=\u001b[0m \u001b[0mself\u001b[0m\u001b[0;34m.\u001b[0m\u001b[0m_callable_fn\u001b[0m\u001b[0;34m(\u001b[0m\u001b[0;34m*\u001b[0m\u001b[0marray_vals\u001b[0m\u001b[0;34m,\u001b[0m \u001b[0mrun_metadata\u001b[0m\u001b[0;34m=\u001b[0m\u001b[0mself\u001b[0m\u001b[0;34m.\u001b[0m\u001b[0mrun_metadata\u001b[0m\u001b[0;34m)\u001b[0m\u001b[0;34m\u001b[0m\u001b[0m\n\u001b[1;32m   2674\u001b[0m         \u001b[0;32melse\u001b[0m\u001b[0;34m:\u001b[0m\u001b[0;34m\u001b[0m\u001b[0m\n\u001b[0;32m-> 2675\u001b[0;31m             \u001b[0mfetched\u001b[0m \u001b[0;34m=\u001b[0m \u001b[0mself\u001b[0m\u001b[0;34m.\u001b[0m\u001b[0m_callable_fn\u001b[0m\u001b[0;34m(\u001b[0m\u001b[0;34m*\u001b[0m\u001b[0marray_vals\u001b[0m\u001b[0;34m)\u001b[0m\u001b[0;34m\u001b[0m\u001b[0m\n\u001b[0m\u001b[1;32m   2676\u001b[0m         \u001b[0;32mreturn\u001b[0m \u001b[0mfetched\u001b[0m\u001b[0;34m[\u001b[0m\u001b[0;34m:\u001b[0m\u001b[0mlen\u001b[0m\u001b[0;34m(\u001b[0m\u001b[0mself\u001b[0m\u001b[0;34m.\u001b[0m\u001b[0moutputs\u001b[0m\u001b[0;34m)\u001b[0m\u001b[0;34m]\u001b[0m\u001b[0;34m\u001b[0m\u001b[0m\n\u001b[1;32m   2677\u001b[0m \u001b[0;34m\u001b[0m\u001b[0m\n",
      "\u001b[0;32m~/EMD-VAE/env_END-VAE/lib/python3.5/site-packages/tensorflow/python/client/session.py\u001b[0m in \u001b[0;36m__call__\u001b[0;34m(self, *args)\u001b[0m\n\u001b[1;32m   1449\u001b[0m         \u001b[0;32mif\u001b[0m \u001b[0mself\u001b[0m\u001b[0;34m.\u001b[0m\u001b[0m_session\u001b[0m\u001b[0;34m.\u001b[0m\u001b[0m_created_with_new_api\u001b[0m\u001b[0;34m:\u001b[0m\u001b[0;34m\u001b[0m\u001b[0m\n\u001b[1;32m   1450\u001b[0m           return tf_session.TF_SessionRunCallable(\n\u001b[0;32m-> 1451\u001b[0;31m               self._session._session, self._handle, args, status, None)\n\u001b[0m\u001b[1;32m   1452\u001b[0m         \u001b[0;32melse\u001b[0m\u001b[0;34m:\u001b[0m\u001b[0;34m\u001b[0m\u001b[0m\n\u001b[1;32m   1453\u001b[0m           return tf_session.TF_DeprecatedSessionRunCallable(\n",
      "\u001b[0;31mKeyboardInterrupt\u001b[0m: "
     ]
    }
   ],
   "source": [
    "model.fit(train_data,train_labels,epochs=200,batch_size=300,validation_data=(valid_data,valid_labels))"
   ]
  },
  {
   "cell_type": "code",
   "execution_count": 71,
   "metadata": {},
   "outputs": [
    {
     "name": "stdout",
     "output_type": "stream",
     "text": [
      "Train on 400000 samples, validate on 20000 samples\n",
      "Epoch 1/200\n",
      "400000/400000 [==============================] - 48s 121us/step - loss: 0.6684 - val_loss: 0.6670\n",
      "Epoch 2/200\n",
      "400000/400000 [==============================] - 44s 111us/step - loss: 0.6628 - val_loss: 0.6586\n",
      "Epoch 3/200\n",
      "400000/400000 [==============================] - 44s 111us/step - loss: 0.6596 - val_loss: 0.6579\n",
      "Epoch 4/200\n",
      "400000/400000 [==============================] - 45s 111us/step - loss: 0.6577 - val_loss: 0.6575\n",
      "Epoch 5/200\n",
      "400000/400000 [==============================] - 45s 112us/step - loss: 0.6542 - val_loss: 0.6532\n",
      "Epoch 6/200\n",
      "400000/400000 [==============================] - 45s 112us/step - loss: 0.6518 - val_loss: 0.6489\n",
      "Epoch 7/200\n",
      "400000/400000 [==============================] - 45s 112us/step - loss: 0.6486 - val_loss: 0.6489\n",
      "Epoch 8/200\n",
      "400000/400000 [==============================] - 45s 112us/step - loss: 0.6473 - val_loss: 0.6468\n",
      "Epoch 9/200\n",
      "400000/400000 [==============================] - 45s 112us/step - loss: 0.6469 - val_loss: 0.6468\n",
      "Epoch 10/200\n",
      "400000/400000 [==============================] - 45s 112us/step - loss: 0.6460 - val_loss: 0.6450\n",
      "Epoch 11/200\n",
      "400000/400000 [==============================] - 45s 112us/step - loss: 0.6455 - val_loss: 0.6445\n",
      "Epoch 12/200\n",
      "400000/400000 [==============================] - 45s 112us/step - loss: 0.6451 - val_loss: 0.6434\n",
      "Epoch 13/200\n",
      "400000/400000 [==============================] - 45s 112us/step - loss: 0.6448 - val_loss: 0.6444\n",
      "Epoch 14/200\n",
      "400000/400000 [==============================] - 45s 111us/step - loss: 0.6439 - val_loss: 0.6440\n",
      "Epoch 15/200\n",
      "400000/400000 [==============================] - 45s 112us/step - loss: 0.6439 - val_loss: 0.6427\n",
      "Epoch 16/200\n",
      "400000/400000 [==============================] - 45s 112us/step - loss: 0.6431 - val_loss: 0.6433A: 0s - loss: 0.\n",
      "Epoch 17/200\n",
      "400000/400000 [==============================] - 45s 112us/step - loss: 0.6431 - val_loss: 0.6433\n",
      "Epoch 18/200\n",
      "400000/400000 [==============================] - 45s 112us/step - loss: 0.6425 - val_loss: 0.6434\n",
      "Epoch 19/200\n",
      "400000/400000 [==============================] - 45s 112us/step - loss: 0.6423 - val_loss: 0.6422\n",
      "Epoch 20/200\n",
      "400000/400000 [==============================] - 45s 112us/step - loss: 0.6418 - val_loss: 0.6417\n",
      "Epoch 21/200\n",
      "400000/400000 [==============================] - 45s 112us/step - loss: 0.6413 - val_loss: 0.6417\n",
      "Epoch 22/200\n",
      "400000/400000 [==============================] - 45s 111us/step - loss: 0.6408 - val_loss: 0.6404\n",
      "Epoch 23/200\n",
      "400000/400000 [==============================] - 45s 112us/step - loss: 0.6406 - val_loss: 0.6422\n",
      "Epoch 24/200\n",
      "400000/400000 [==============================] - 45s 112us/step - loss: 0.6401 - val_loss: 0.6405\n",
      "Epoch 25/200\n",
      " 19500/400000 [>.............................] - ETA: 41s - loss: 0.6390"
     ]
    },
    {
     "ename": "KeyboardInterrupt",
     "evalue": "",
     "output_type": "error",
     "traceback": [
      "\u001b[0;31m---------------------------------------------------------------------------\u001b[0m",
      "\u001b[0;31mKeyboardInterrupt\u001b[0m                         Traceback (most recent call last)",
      "\u001b[0;32m<ipython-input-71-36346a066bb7>\u001b[0m in \u001b[0;36m<module>\u001b[0;34m\u001b[0m\n\u001b[0;32m----> 1\u001b[0;31m \u001b[0mmodel\u001b[0m\u001b[0;34m.\u001b[0m\u001b[0mfit\u001b[0m\u001b[0;34m(\u001b[0m\u001b[0mtrain_data\u001b[0m\u001b[0;34m,\u001b[0m\u001b[0mtrain_labels\u001b[0m\u001b[0;34m,\u001b[0m\u001b[0mepochs\u001b[0m\u001b[0;34m=\u001b[0m\u001b[0;36m200\u001b[0m\u001b[0;34m,\u001b[0m\u001b[0mbatch_size\u001b[0m\u001b[0;34m=\u001b[0m\u001b[0;36m300\u001b[0m\u001b[0;34m,\u001b[0m\u001b[0mvalidation_data\u001b[0m\u001b[0;34m=\u001b[0m\u001b[0;34m(\u001b[0m\u001b[0mvalid_data\u001b[0m\u001b[0;34m,\u001b[0m\u001b[0mvalid_labels\u001b[0m\u001b[0;34m)\u001b[0m\u001b[0;34m)\u001b[0m\u001b[0;34m\u001b[0m\u001b[0m\n\u001b[0m",
      "\u001b[0;32m~/EMD-VAE/env_END-VAE/lib/python3.5/site-packages/keras/engine/training.py\u001b[0m in \u001b[0;36mfit\u001b[0;34m(self, x, y, batch_size, epochs, verbose, callbacks, validation_split, validation_data, shuffle, class_weight, sample_weight, initial_epoch, steps_per_epoch, validation_steps, **kwargs)\u001b[0m\n\u001b[1;32m   1037\u001b[0m                                         \u001b[0minitial_epoch\u001b[0m\u001b[0;34m=\u001b[0m\u001b[0minitial_epoch\u001b[0m\u001b[0;34m,\u001b[0m\u001b[0;34m\u001b[0m\u001b[0m\n\u001b[1;32m   1038\u001b[0m                                         \u001b[0msteps_per_epoch\u001b[0m\u001b[0;34m=\u001b[0m\u001b[0msteps_per_epoch\u001b[0m\u001b[0;34m,\u001b[0m\u001b[0;34m\u001b[0m\u001b[0m\n\u001b[0;32m-> 1039\u001b[0;31m                                         validation_steps=validation_steps)\n\u001b[0m\u001b[1;32m   1040\u001b[0m \u001b[0;34m\u001b[0m\u001b[0m\n\u001b[1;32m   1041\u001b[0m     def evaluate(self, x=None, y=None,\n",
      "\u001b[0;32m~/EMD-VAE/env_END-VAE/lib/python3.5/site-packages/keras/engine/training_arrays.py\u001b[0m in \u001b[0;36mfit_loop\u001b[0;34m(model, f, ins, out_labels, batch_size, epochs, verbose, callbacks, val_f, val_ins, shuffle, callback_metrics, initial_epoch, steps_per_epoch, validation_steps)\u001b[0m\n\u001b[1;32m    197\u001b[0m                     \u001b[0mins_batch\u001b[0m\u001b[0;34m[\u001b[0m\u001b[0mi\u001b[0m\u001b[0;34m]\u001b[0m \u001b[0;34m=\u001b[0m \u001b[0mins_batch\u001b[0m\u001b[0;34m[\u001b[0m\u001b[0mi\u001b[0m\u001b[0;34m]\u001b[0m\u001b[0;34m.\u001b[0m\u001b[0mtoarray\u001b[0m\u001b[0;34m(\u001b[0m\u001b[0;34m)\u001b[0m\u001b[0;34m\u001b[0m\u001b[0m\n\u001b[1;32m    198\u001b[0m \u001b[0;34m\u001b[0m\u001b[0m\n\u001b[0;32m--> 199\u001b[0;31m                 \u001b[0mouts\u001b[0m \u001b[0;34m=\u001b[0m \u001b[0mf\u001b[0m\u001b[0;34m(\u001b[0m\u001b[0mins_batch\u001b[0m\u001b[0;34m)\u001b[0m\u001b[0;34m\u001b[0m\u001b[0m\n\u001b[0m\u001b[1;32m    200\u001b[0m                 \u001b[0mouts\u001b[0m \u001b[0;34m=\u001b[0m \u001b[0mto_list\u001b[0m\u001b[0;34m(\u001b[0m\u001b[0mouts\u001b[0m\u001b[0;34m)\u001b[0m\u001b[0;34m\u001b[0m\u001b[0m\n\u001b[1;32m    201\u001b[0m                 \u001b[0;32mfor\u001b[0m \u001b[0ml\u001b[0m\u001b[0;34m,\u001b[0m \u001b[0mo\u001b[0m \u001b[0;32min\u001b[0m \u001b[0mzip\u001b[0m\u001b[0;34m(\u001b[0m\u001b[0mout_labels\u001b[0m\u001b[0;34m,\u001b[0m \u001b[0mouts\u001b[0m\u001b[0;34m)\u001b[0m\u001b[0;34m:\u001b[0m\u001b[0;34m\u001b[0m\u001b[0m\n",
      "\u001b[0;32m~/EMD-VAE/env_END-VAE/lib/python3.5/site-packages/keras/backend/tensorflow_backend.py\u001b[0m in \u001b[0;36m__call__\u001b[0;34m(self, inputs)\u001b[0m\n\u001b[1;32m   2713\u001b[0m                 \u001b[0;32mreturn\u001b[0m \u001b[0mself\u001b[0m\u001b[0;34m.\u001b[0m\u001b[0m_legacy_call\u001b[0m\u001b[0;34m(\u001b[0m\u001b[0minputs\u001b[0m\u001b[0;34m)\u001b[0m\u001b[0;34m\u001b[0m\u001b[0m\n\u001b[1;32m   2714\u001b[0m \u001b[0;34m\u001b[0m\u001b[0m\n\u001b[0;32m-> 2715\u001b[0;31m             \u001b[0;32mreturn\u001b[0m \u001b[0mself\u001b[0m\u001b[0;34m.\u001b[0m\u001b[0m_call\u001b[0m\u001b[0;34m(\u001b[0m\u001b[0minputs\u001b[0m\u001b[0;34m)\u001b[0m\u001b[0;34m\u001b[0m\u001b[0m\n\u001b[0m\u001b[1;32m   2716\u001b[0m         \u001b[0;32melse\u001b[0m\u001b[0;34m:\u001b[0m\u001b[0;34m\u001b[0m\u001b[0m\n\u001b[1;32m   2717\u001b[0m             \u001b[0;32mif\u001b[0m \u001b[0mpy_any\u001b[0m\u001b[0;34m(\u001b[0m\u001b[0mis_tensor\u001b[0m\u001b[0;34m(\u001b[0m\u001b[0mx\u001b[0m\u001b[0;34m)\u001b[0m \u001b[0;32mfor\u001b[0m \u001b[0mx\u001b[0m \u001b[0;32min\u001b[0m \u001b[0minputs\u001b[0m\u001b[0;34m)\u001b[0m\u001b[0;34m:\u001b[0m\u001b[0;34m\u001b[0m\u001b[0m\n",
      "\u001b[0;32m~/EMD-VAE/env_END-VAE/lib/python3.5/site-packages/keras/backend/tensorflow_backend.py\u001b[0m in \u001b[0;36m_call\u001b[0;34m(self, inputs)\u001b[0m\n\u001b[1;32m   2673\u001b[0m             \u001b[0mfetched\u001b[0m \u001b[0;34m=\u001b[0m \u001b[0mself\u001b[0m\u001b[0;34m.\u001b[0m\u001b[0m_callable_fn\u001b[0m\u001b[0;34m(\u001b[0m\u001b[0;34m*\u001b[0m\u001b[0marray_vals\u001b[0m\u001b[0;34m,\u001b[0m \u001b[0mrun_metadata\u001b[0m\u001b[0;34m=\u001b[0m\u001b[0mself\u001b[0m\u001b[0;34m.\u001b[0m\u001b[0mrun_metadata\u001b[0m\u001b[0;34m)\u001b[0m\u001b[0;34m\u001b[0m\u001b[0m\n\u001b[1;32m   2674\u001b[0m         \u001b[0;32melse\u001b[0m\u001b[0;34m:\u001b[0m\u001b[0;34m\u001b[0m\u001b[0m\n\u001b[0;32m-> 2675\u001b[0;31m             \u001b[0mfetched\u001b[0m \u001b[0;34m=\u001b[0m \u001b[0mself\u001b[0m\u001b[0;34m.\u001b[0m\u001b[0m_callable_fn\u001b[0m\u001b[0;34m(\u001b[0m\u001b[0;34m*\u001b[0m\u001b[0marray_vals\u001b[0m\u001b[0;34m)\u001b[0m\u001b[0;34m\u001b[0m\u001b[0m\n\u001b[0m\u001b[1;32m   2676\u001b[0m         \u001b[0;32mreturn\u001b[0m \u001b[0mfetched\u001b[0m\u001b[0;34m[\u001b[0m\u001b[0;34m:\u001b[0m\u001b[0mlen\u001b[0m\u001b[0;34m(\u001b[0m\u001b[0mself\u001b[0m\u001b[0;34m.\u001b[0m\u001b[0moutputs\u001b[0m\u001b[0;34m)\u001b[0m\u001b[0;34m]\u001b[0m\u001b[0;34m\u001b[0m\u001b[0m\n\u001b[1;32m   2677\u001b[0m \u001b[0;34m\u001b[0m\u001b[0m\n",
      "\u001b[0;32m~/EMD-VAE/env_END-VAE/lib/python3.5/site-packages/tensorflow/python/client/session.py\u001b[0m in \u001b[0;36m__call__\u001b[0;34m(self, *args)\u001b[0m\n\u001b[1;32m   1449\u001b[0m         \u001b[0;32mif\u001b[0m \u001b[0mself\u001b[0m\u001b[0;34m.\u001b[0m\u001b[0m_session\u001b[0m\u001b[0;34m.\u001b[0m\u001b[0m_created_with_new_api\u001b[0m\u001b[0;34m:\u001b[0m\u001b[0;34m\u001b[0m\u001b[0m\n\u001b[1;32m   1450\u001b[0m           return tf_session.TF_SessionRunCallable(\n\u001b[0;32m-> 1451\u001b[0;31m               self._session._session, self._handle, args, status, None)\n\u001b[0m\u001b[1;32m   1452\u001b[0m         \u001b[0;32melse\u001b[0m\u001b[0;34m:\u001b[0m\u001b[0;34m\u001b[0m\u001b[0m\n\u001b[1;32m   1453\u001b[0m           return tf_session.TF_DeprecatedSessionRunCallable(\n",
      "\u001b[0;31mKeyboardInterrupt\u001b[0m: "
     ]
    }
   ],
   "source": [
    "model.fit(train_data,train_labels,epochs=200,batch_size=300,validation_data=(valid_data,valid_labels))"
   ]
  },
  {
   "cell_type": "code",
   "execution_count": 69,
   "metadata": {},
   "outputs": [
    {
     "name": "stdout",
     "output_type": "stream",
     "text": [
      "Train on 400000 samples, validate on 20000 samples\n",
      "Epoch 1/200\n",
      "400000/400000 [==============================] - 21s 51us/step - loss: 0.6673 - val_loss: 0.6618\n",
      "Epoch 2/200\n",
      "400000/400000 [==============================] - 20s 49us/step - loss: 0.6566 - val_loss: 0.6518\n",
      "Epoch 3/200\n",
      "400000/400000 [==============================] - 20s 49us/step - loss: 0.6498 - val_loss: 0.6496\n",
      "Epoch 4/200\n",
      "400000/400000 [==============================] - 20s 49us/step - loss: 0.6469 - val_loss: 0.6510\n",
      "Epoch 5/200\n",
      "400000/400000 [==============================] - 20s 49us/step - loss: 0.6452 - val_loss: 0.6456\n",
      "Epoch 6/200\n",
      "400000/400000 [==============================] - 20s 49us/step - loss: 0.6442 - val_loss: 0.6471\n",
      "Epoch 7/200\n",
      "400000/400000 [==============================] - 20s 50us/step - loss: 0.6429 - val_loss: 0.6453\n",
      "Epoch 8/200\n",
      "400000/400000 [==============================] - 20s 50us/step - loss: 0.6423 - val_loss: 0.6453\n",
      "Epoch 9/200\n",
      "400000/400000 [==============================] - 20s 50us/step - loss: 0.6418 - val_loss: 0.6438\n",
      "Epoch 10/200\n",
      "400000/400000 [==============================] - 20s 49us/step - loss: 0.6411 - val_loss: 0.6424\n",
      "Epoch 11/200\n",
      "400000/400000 [==============================] - 20s 50us/step - loss: 0.6409 - val_loss: 0.6428\n",
      "Epoch 12/200\n",
      "400000/400000 [==============================] - 20s 50us/step - loss: 0.6403 - val_loss: 0.6437\n",
      "Epoch 13/200\n",
      "400000/400000 [==============================] - 20s 50us/step - loss: 0.6397 - val_loss: 0.6424\n",
      "Epoch 14/200\n",
      "400000/400000 [==============================] - 20s 50us/step - loss: 0.6390 - val_loss: 0.6421\n",
      "Epoch 15/200\n",
      "400000/400000 [==============================] - 20s 50us/step - loss: 0.6389 - val_loss: 0.6429\n",
      "Epoch 16/200\n",
      "400000/400000 [==============================] - 20s 50us/step - loss: 0.6383 - val_loss: 0.6427\n",
      "Epoch 17/200\n",
      "400000/400000 [==============================] - 20s 50us/step - loss: 0.6376 - val_loss: 0.6398\n",
      "Epoch 18/200\n",
      "400000/400000 [==============================] - 20s 50us/step - loss: 0.6372 - val_loss: 0.6400\n",
      "Epoch 19/200\n",
      "400000/400000 [==============================] - 20s 49us/step - loss: 0.6363 - val_loss: 0.6399\n",
      "Epoch 20/200\n",
      "400000/400000 [==============================] - 20s 50us/step - loss: 0.6358 - val_loss: 0.6385\n",
      "Epoch 21/200\n",
      "400000/400000 [==============================] - 20s 50us/step - loss: 0.6352 - val_loss: 0.6382\n",
      "Epoch 22/200\n",
      "400000/400000 [==============================] - 20s 50us/step - loss: 0.6344 - val_loss: 0.6370\n",
      "Epoch 23/200\n",
      "400000/400000 [==============================] - 20s 50us/step - loss: 0.6338 - val_loss: 0.6361\n",
      "Epoch 24/200\n",
      "400000/400000 [==============================] - 20s 50us/step - loss: 0.6330 - val_loss: 0.6353\n",
      "Epoch 25/200\n",
      "400000/400000 [==============================] - 20s 50us/step - loss: 0.6327 - val_loss: 0.6378\n",
      "Epoch 26/200\n",
      " 96300/400000 [======>.......................] - ETA: 14s - loss: 0.6316"
     ]
    },
    {
     "ename": "KeyboardInterrupt",
     "evalue": "",
     "output_type": "error",
     "traceback": [
      "\u001b[0;31m---------------------------------------------------------------------------\u001b[0m",
      "\u001b[0;31mKeyboardInterrupt\u001b[0m                         Traceback (most recent call last)",
      "\u001b[0;32m<ipython-input-69-36346a066bb7>\u001b[0m in \u001b[0;36m<module>\u001b[0;34m\u001b[0m\n\u001b[0;32m----> 1\u001b[0;31m \u001b[0mmodel\u001b[0m\u001b[0;34m.\u001b[0m\u001b[0mfit\u001b[0m\u001b[0;34m(\u001b[0m\u001b[0mtrain_data\u001b[0m\u001b[0;34m,\u001b[0m\u001b[0mtrain_labels\u001b[0m\u001b[0;34m,\u001b[0m\u001b[0mepochs\u001b[0m\u001b[0;34m=\u001b[0m\u001b[0;36m200\u001b[0m\u001b[0;34m,\u001b[0m\u001b[0mbatch_size\u001b[0m\u001b[0;34m=\u001b[0m\u001b[0;36m300\u001b[0m\u001b[0;34m,\u001b[0m\u001b[0mvalidation_data\u001b[0m\u001b[0;34m=\u001b[0m\u001b[0;34m(\u001b[0m\u001b[0mvalid_data\u001b[0m\u001b[0;34m,\u001b[0m\u001b[0mvalid_labels\u001b[0m\u001b[0;34m)\u001b[0m\u001b[0;34m)\u001b[0m\u001b[0;34m\u001b[0m\u001b[0m\n\u001b[0m",
      "\u001b[0;32m~/EMD-VAE/env_END-VAE/lib/python3.5/site-packages/keras/engine/training.py\u001b[0m in \u001b[0;36mfit\u001b[0;34m(self, x, y, batch_size, epochs, verbose, callbacks, validation_split, validation_data, shuffle, class_weight, sample_weight, initial_epoch, steps_per_epoch, validation_steps, **kwargs)\u001b[0m\n\u001b[1;32m   1037\u001b[0m                                         \u001b[0minitial_epoch\u001b[0m\u001b[0;34m=\u001b[0m\u001b[0minitial_epoch\u001b[0m\u001b[0;34m,\u001b[0m\u001b[0;34m\u001b[0m\u001b[0m\n\u001b[1;32m   1038\u001b[0m                                         \u001b[0msteps_per_epoch\u001b[0m\u001b[0;34m=\u001b[0m\u001b[0msteps_per_epoch\u001b[0m\u001b[0;34m,\u001b[0m\u001b[0;34m\u001b[0m\u001b[0m\n\u001b[0;32m-> 1039\u001b[0;31m                                         validation_steps=validation_steps)\n\u001b[0m\u001b[1;32m   1040\u001b[0m \u001b[0;34m\u001b[0m\u001b[0m\n\u001b[1;32m   1041\u001b[0m     def evaluate(self, x=None, y=None,\n",
      "\u001b[0;32m~/EMD-VAE/env_END-VAE/lib/python3.5/site-packages/keras/engine/training_arrays.py\u001b[0m in \u001b[0;36mfit_loop\u001b[0;34m(model, f, ins, out_labels, batch_size, epochs, verbose, callbacks, val_f, val_ins, shuffle, callback_metrics, initial_epoch, steps_per_epoch, validation_steps)\u001b[0m\n\u001b[1;32m    197\u001b[0m                     \u001b[0mins_batch\u001b[0m\u001b[0;34m[\u001b[0m\u001b[0mi\u001b[0m\u001b[0;34m]\u001b[0m \u001b[0;34m=\u001b[0m \u001b[0mins_batch\u001b[0m\u001b[0;34m[\u001b[0m\u001b[0mi\u001b[0m\u001b[0;34m]\u001b[0m\u001b[0;34m.\u001b[0m\u001b[0mtoarray\u001b[0m\u001b[0;34m(\u001b[0m\u001b[0;34m)\u001b[0m\u001b[0;34m\u001b[0m\u001b[0m\n\u001b[1;32m    198\u001b[0m \u001b[0;34m\u001b[0m\u001b[0m\n\u001b[0;32m--> 199\u001b[0;31m                 \u001b[0mouts\u001b[0m \u001b[0;34m=\u001b[0m \u001b[0mf\u001b[0m\u001b[0;34m(\u001b[0m\u001b[0mins_batch\u001b[0m\u001b[0;34m)\u001b[0m\u001b[0;34m\u001b[0m\u001b[0m\n\u001b[0m\u001b[1;32m    200\u001b[0m                 \u001b[0mouts\u001b[0m \u001b[0;34m=\u001b[0m \u001b[0mto_list\u001b[0m\u001b[0;34m(\u001b[0m\u001b[0mouts\u001b[0m\u001b[0;34m)\u001b[0m\u001b[0;34m\u001b[0m\u001b[0m\n\u001b[1;32m    201\u001b[0m                 \u001b[0;32mfor\u001b[0m \u001b[0ml\u001b[0m\u001b[0;34m,\u001b[0m \u001b[0mo\u001b[0m \u001b[0;32min\u001b[0m \u001b[0mzip\u001b[0m\u001b[0;34m(\u001b[0m\u001b[0mout_labels\u001b[0m\u001b[0;34m,\u001b[0m \u001b[0mouts\u001b[0m\u001b[0;34m)\u001b[0m\u001b[0;34m:\u001b[0m\u001b[0;34m\u001b[0m\u001b[0m\n",
      "\u001b[0;32m~/EMD-VAE/env_END-VAE/lib/python3.5/site-packages/keras/backend/tensorflow_backend.py\u001b[0m in \u001b[0;36m__call__\u001b[0;34m(self, inputs)\u001b[0m\n\u001b[1;32m   2713\u001b[0m                 \u001b[0;32mreturn\u001b[0m \u001b[0mself\u001b[0m\u001b[0;34m.\u001b[0m\u001b[0m_legacy_call\u001b[0m\u001b[0;34m(\u001b[0m\u001b[0minputs\u001b[0m\u001b[0;34m)\u001b[0m\u001b[0;34m\u001b[0m\u001b[0m\n\u001b[1;32m   2714\u001b[0m \u001b[0;34m\u001b[0m\u001b[0m\n\u001b[0;32m-> 2715\u001b[0;31m             \u001b[0;32mreturn\u001b[0m \u001b[0mself\u001b[0m\u001b[0;34m.\u001b[0m\u001b[0m_call\u001b[0m\u001b[0;34m(\u001b[0m\u001b[0minputs\u001b[0m\u001b[0;34m)\u001b[0m\u001b[0;34m\u001b[0m\u001b[0m\n\u001b[0m\u001b[1;32m   2716\u001b[0m         \u001b[0;32melse\u001b[0m\u001b[0;34m:\u001b[0m\u001b[0;34m\u001b[0m\u001b[0m\n\u001b[1;32m   2717\u001b[0m             \u001b[0;32mif\u001b[0m \u001b[0mpy_any\u001b[0m\u001b[0;34m(\u001b[0m\u001b[0mis_tensor\u001b[0m\u001b[0;34m(\u001b[0m\u001b[0mx\u001b[0m\u001b[0;34m)\u001b[0m \u001b[0;32mfor\u001b[0m \u001b[0mx\u001b[0m \u001b[0;32min\u001b[0m \u001b[0minputs\u001b[0m\u001b[0;34m)\u001b[0m\u001b[0;34m:\u001b[0m\u001b[0;34m\u001b[0m\u001b[0m\n",
      "\u001b[0;32m~/EMD-VAE/env_END-VAE/lib/python3.5/site-packages/keras/backend/tensorflow_backend.py\u001b[0m in \u001b[0;36m_call\u001b[0;34m(self, inputs)\u001b[0m\n\u001b[1;32m   2673\u001b[0m             \u001b[0mfetched\u001b[0m \u001b[0;34m=\u001b[0m \u001b[0mself\u001b[0m\u001b[0;34m.\u001b[0m\u001b[0m_callable_fn\u001b[0m\u001b[0;34m(\u001b[0m\u001b[0;34m*\u001b[0m\u001b[0marray_vals\u001b[0m\u001b[0;34m,\u001b[0m \u001b[0mrun_metadata\u001b[0m\u001b[0;34m=\u001b[0m\u001b[0mself\u001b[0m\u001b[0;34m.\u001b[0m\u001b[0mrun_metadata\u001b[0m\u001b[0;34m)\u001b[0m\u001b[0;34m\u001b[0m\u001b[0m\n\u001b[1;32m   2674\u001b[0m         \u001b[0;32melse\u001b[0m\u001b[0;34m:\u001b[0m\u001b[0;34m\u001b[0m\u001b[0m\n\u001b[0;32m-> 2675\u001b[0;31m             \u001b[0mfetched\u001b[0m \u001b[0;34m=\u001b[0m \u001b[0mself\u001b[0m\u001b[0;34m.\u001b[0m\u001b[0m_callable_fn\u001b[0m\u001b[0;34m(\u001b[0m\u001b[0;34m*\u001b[0m\u001b[0marray_vals\u001b[0m\u001b[0;34m)\u001b[0m\u001b[0;34m\u001b[0m\u001b[0m\n\u001b[0m\u001b[1;32m   2676\u001b[0m         \u001b[0;32mreturn\u001b[0m \u001b[0mfetched\u001b[0m\u001b[0;34m[\u001b[0m\u001b[0;34m:\u001b[0m\u001b[0mlen\u001b[0m\u001b[0;34m(\u001b[0m\u001b[0mself\u001b[0m\u001b[0;34m.\u001b[0m\u001b[0moutputs\u001b[0m\u001b[0;34m)\u001b[0m\u001b[0;34m]\u001b[0m\u001b[0;34m\u001b[0m\u001b[0m\n\u001b[1;32m   2677\u001b[0m \u001b[0;34m\u001b[0m\u001b[0m\n",
      "\u001b[0;32m~/EMD-VAE/env_END-VAE/lib/python3.5/site-packages/tensorflow/python/client/session.py\u001b[0m in \u001b[0;36m__call__\u001b[0;34m(self, *args)\u001b[0m\n\u001b[1;32m   1449\u001b[0m         \u001b[0;32mif\u001b[0m \u001b[0mself\u001b[0m\u001b[0;34m.\u001b[0m\u001b[0m_session\u001b[0m\u001b[0;34m.\u001b[0m\u001b[0m_created_with_new_api\u001b[0m\u001b[0;34m:\u001b[0m\u001b[0;34m\u001b[0m\u001b[0m\n\u001b[1;32m   1450\u001b[0m           return tf_session.TF_SessionRunCallable(\n\u001b[0;32m-> 1451\u001b[0;31m               self._session._session, self._handle, args, status, None)\n\u001b[0m\u001b[1;32m   1452\u001b[0m         \u001b[0;32melse\u001b[0m\u001b[0;34m:\u001b[0m\u001b[0;34m\u001b[0m\u001b[0m\n\u001b[1;32m   1453\u001b[0m           return tf_session.TF_DeprecatedSessionRunCallable(\n",
      "\u001b[0;31mKeyboardInterrupt\u001b[0m: "
     ]
    }
   ],
   "source": [
    "model.fit(train_data,train_labels,epochs=200,batch_size=300,validation_data=(valid_data,valid_labels))"
   ]
  },
  {
   "cell_type": "code",
   "execution_count": 65,
   "metadata": {},
   "outputs": [
    {
     "name": "stdout",
     "output_type": "stream",
     "text": [
      "Train on 400000 samples, validate on 20000 samples\n",
      "Epoch 1/200\n",
      "400000/400000 [==============================] - 13s 33us/step - loss: 0.6690 - val_loss: 0.6653\n",
      "Epoch 2/200\n",
      "400000/400000 [==============================] - 12s 31us/step - loss: 0.6620 - val_loss: 0.6617\n",
      "Epoch 3/200\n",
      "400000/400000 [==============================] - 12s 31us/step - loss: 0.6580 - val_loss: 0.6572\n",
      "Epoch 4/200\n",
      "400000/400000 [==============================] - 12s 31us/step - loss: 0.6546 - val_loss: 0.6593\n",
      "Epoch 5/200\n",
      "400000/400000 [==============================] - 12s 31us/step - loss: 0.6518 - val_loss: 0.6534\n",
      "Epoch 6/200\n",
      "400000/400000 [==============================] - 12s 31us/step - loss: 0.6494 - val_loss: 0.6520\n",
      "Epoch 7/200\n",
      "400000/400000 [==============================] - 12s 31us/step - loss: 0.6484 - val_loss: 0.6530\n",
      "Epoch 8/200\n",
      "400000/400000 [==============================] - 12s 31us/step - loss: 0.6473 - val_loss: 0.6489\n",
      "Epoch 9/200\n",
      "400000/400000 [==============================] - 12s 31us/step - loss: 0.6465 - val_loss: 0.6494\n",
      "Epoch 10/200\n",
      "400000/400000 [==============================] - 12s 31us/step - loss: 0.6460 - val_loss: 0.6504\n",
      "Epoch 11/200\n",
      "400000/400000 [==============================] - 12s 31us/step - loss: 0.6452 - val_loss: 0.6477\n",
      "Epoch 12/200\n",
      "400000/400000 [==============================] - 12s 31us/step - loss: 0.6449 - val_loss: 0.6468\n",
      "Epoch 13/200\n",
      "400000/400000 [==============================] - 12s 31us/step - loss: 0.6442 - val_loss: 0.6495\n",
      "Epoch 14/200\n",
      "400000/400000 [==============================] - 12s 31us/step - loss: 0.6435 - val_loss: 0.6456\n",
      "Epoch 15/200\n",
      "400000/400000 [==============================] - 12s 31us/step - loss: 0.6432 - val_loss: 0.6446\n",
      "Epoch 16/200\n",
      "400000/400000 [==============================] - 12s 31us/step - loss: 0.6427 - val_loss: 0.6452\n",
      "Epoch 17/200\n",
      "400000/400000 [==============================] - 12s 31us/step - loss: 0.6420 - val_loss: 0.6439\n",
      "Epoch 18/200\n",
      "400000/400000 [==============================] - 12s 31us/step - loss: 0.6417 - val_loss: 0.6446\n",
      "Epoch 19/200\n",
      "400000/400000 [==============================] - 12s 31us/step - loss: 0.6411 - val_loss: 0.6422\n",
      "Epoch 20/200\n",
      "400000/400000 [==============================] - 12s 31us/step - loss: 0.6406 - val_loss: 0.6439\n",
      "Epoch 21/200\n",
      "400000/400000 [==============================] - 12s 31us/step - loss: 0.6401 - val_loss: 0.6435\n",
      "Epoch 22/200\n",
      "400000/400000 [==============================] - 12s 31us/step - loss: 0.6396 - val_loss: 0.6434\n",
      "Epoch 23/200\n",
      "400000/400000 [==============================] - 12s 31us/step - loss: 0.6390 - val_loss: 0.6447\n",
      "Epoch 24/200\n",
      "400000/400000 [==============================] - 12s 31us/step - loss: 0.6382 - val_loss: 0.6410\n",
      "Epoch 25/200\n",
      "400000/400000 [==============================] - 12s 31us/step - loss: 0.6376 - val_loss: 0.6395\n",
      "Epoch 26/200\n",
      "400000/400000 [==============================] - 12s 30us/step - loss: 0.6371 - val_loss: 0.6382\n",
      "Epoch 27/200\n",
      "400000/400000 [==============================] - 12s 31us/step - loss: 0.6362 - val_loss: 0.6424\n",
      "Epoch 28/200\n",
      "400000/400000 [==============================] - 12s 30us/step - loss: 0.6355 - val_loss: 0.6427\n",
      "Epoch 29/200\n",
      "400000/400000 [==============================] - 12s 31us/step - loss: 0.6352 - val_loss: 0.6417\n",
      "Epoch 30/200\n",
      "198300/400000 [=============>................] - ETA: 6s - loss: 0.6342"
     ]
    },
    {
     "ename": "KeyboardInterrupt",
     "evalue": "",
     "output_type": "error",
     "traceback": [
      "\u001b[0;31m---------------------------------------------------------------------------\u001b[0m",
      "\u001b[0;31mKeyboardInterrupt\u001b[0m                         Traceback (most recent call last)",
      "\u001b[0;32m<ipython-input-65-36346a066bb7>\u001b[0m in \u001b[0;36m<module>\u001b[0;34m\u001b[0m\n\u001b[0;32m----> 1\u001b[0;31m \u001b[0mmodel\u001b[0m\u001b[0;34m.\u001b[0m\u001b[0mfit\u001b[0m\u001b[0;34m(\u001b[0m\u001b[0mtrain_data\u001b[0m\u001b[0;34m,\u001b[0m\u001b[0mtrain_labels\u001b[0m\u001b[0;34m,\u001b[0m\u001b[0mepochs\u001b[0m\u001b[0;34m=\u001b[0m\u001b[0;36m200\u001b[0m\u001b[0;34m,\u001b[0m\u001b[0mbatch_size\u001b[0m\u001b[0;34m=\u001b[0m\u001b[0;36m300\u001b[0m\u001b[0;34m,\u001b[0m\u001b[0mvalidation_data\u001b[0m\u001b[0;34m=\u001b[0m\u001b[0;34m(\u001b[0m\u001b[0mvalid_data\u001b[0m\u001b[0;34m,\u001b[0m\u001b[0mvalid_labels\u001b[0m\u001b[0;34m)\u001b[0m\u001b[0;34m)\u001b[0m\u001b[0;34m\u001b[0m\u001b[0m\n\u001b[0m",
      "\u001b[0;32m~/EMD-VAE/env_END-VAE/lib/python3.5/site-packages/keras/engine/training.py\u001b[0m in \u001b[0;36mfit\u001b[0;34m(self, x, y, batch_size, epochs, verbose, callbacks, validation_split, validation_data, shuffle, class_weight, sample_weight, initial_epoch, steps_per_epoch, validation_steps, **kwargs)\u001b[0m\n\u001b[1;32m   1037\u001b[0m                                         \u001b[0minitial_epoch\u001b[0m\u001b[0;34m=\u001b[0m\u001b[0minitial_epoch\u001b[0m\u001b[0;34m,\u001b[0m\u001b[0;34m\u001b[0m\u001b[0m\n\u001b[1;32m   1038\u001b[0m                                         \u001b[0msteps_per_epoch\u001b[0m\u001b[0;34m=\u001b[0m\u001b[0msteps_per_epoch\u001b[0m\u001b[0;34m,\u001b[0m\u001b[0;34m\u001b[0m\u001b[0m\n\u001b[0;32m-> 1039\u001b[0;31m                                         validation_steps=validation_steps)\n\u001b[0m\u001b[1;32m   1040\u001b[0m \u001b[0;34m\u001b[0m\u001b[0m\n\u001b[1;32m   1041\u001b[0m     def evaluate(self, x=None, y=None,\n",
      "\u001b[0;32m~/EMD-VAE/env_END-VAE/lib/python3.5/site-packages/keras/engine/training_arrays.py\u001b[0m in \u001b[0;36mfit_loop\u001b[0;34m(model, f, ins, out_labels, batch_size, epochs, verbose, callbacks, val_f, val_ins, shuffle, callback_metrics, initial_epoch, steps_per_epoch, validation_steps)\u001b[0m\n\u001b[1;32m    197\u001b[0m                     \u001b[0mins_batch\u001b[0m\u001b[0;34m[\u001b[0m\u001b[0mi\u001b[0m\u001b[0;34m]\u001b[0m \u001b[0;34m=\u001b[0m \u001b[0mins_batch\u001b[0m\u001b[0;34m[\u001b[0m\u001b[0mi\u001b[0m\u001b[0;34m]\u001b[0m\u001b[0;34m.\u001b[0m\u001b[0mtoarray\u001b[0m\u001b[0;34m(\u001b[0m\u001b[0;34m)\u001b[0m\u001b[0;34m\u001b[0m\u001b[0m\n\u001b[1;32m    198\u001b[0m \u001b[0;34m\u001b[0m\u001b[0m\n\u001b[0;32m--> 199\u001b[0;31m                 \u001b[0mouts\u001b[0m \u001b[0;34m=\u001b[0m \u001b[0mf\u001b[0m\u001b[0;34m(\u001b[0m\u001b[0mins_batch\u001b[0m\u001b[0;34m)\u001b[0m\u001b[0;34m\u001b[0m\u001b[0m\n\u001b[0m\u001b[1;32m    200\u001b[0m                 \u001b[0mouts\u001b[0m \u001b[0;34m=\u001b[0m \u001b[0mto_list\u001b[0m\u001b[0;34m(\u001b[0m\u001b[0mouts\u001b[0m\u001b[0;34m)\u001b[0m\u001b[0;34m\u001b[0m\u001b[0m\n\u001b[1;32m    201\u001b[0m                 \u001b[0;32mfor\u001b[0m \u001b[0ml\u001b[0m\u001b[0;34m,\u001b[0m \u001b[0mo\u001b[0m \u001b[0;32min\u001b[0m \u001b[0mzip\u001b[0m\u001b[0;34m(\u001b[0m\u001b[0mout_labels\u001b[0m\u001b[0;34m,\u001b[0m \u001b[0mouts\u001b[0m\u001b[0;34m)\u001b[0m\u001b[0;34m:\u001b[0m\u001b[0;34m\u001b[0m\u001b[0m\n",
      "\u001b[0;32m~/EMD-VAE/env_END-VAE/lib/python3.5/site-packages/keras/backend/tensorflow_backend.py\u001b[0m in \u001b[0;36m__call__\u001b[0;34m(self, inputs)\u001b[0m\n\u001b[1;32m   2713\u001b[0m                 \u001b[0;32mreturn\u001b[0m \u001b[0mself\u001b[0m\u001b[0;34m.\u001b[0m\u001b[0m_legacy_call\u001b[0m\u001b[0;34m(\u001b[0m\u001b[0minputs\u001b[0m\u001b[0;34m)\u001b[0m\u001b[0;34m\u001b[0m\u001b[0m\n\u001b[1;32m   2714\u001b[0m \u001b[0;34m\u001b[0m\u001b[0m\n\u001b[0;32m-> 2715\u001b[0;31m             \u001b[0;32mreturn\u001b[0m \u001b[0mself\u001b[0m\u001b[0;34m.\u001b[0m\u001b[0m_call\u001b[0m\u001b[0;34m(\u001b[0m\u001b[0minputs\u001b[0m\u001b[0;34m)\u001b[0m\u001b[0;34m\u001b[0m\u001b[0m\n\u001b[0m\u001b[1;32m   2716\u001b[0m         \u001b[0;32melse\u001b[0m\u001b[0;34m:\u001b[0m\u001b[0;34m\u001b[0m\u001b[0m\n\u001b[1;32m   2717\u001b[0m             \u001b[0;32mif\u001b[0m \u001b[0mpy_any\u001b[0m\u001b[0;34m(\u001b[0m\u001b[0mis_tensor\u001b[0m\u001b[0;34m(\u001b[0m\u001b[0mx\u001b[0m\u001b[0;34m)\u001b[0m \u001b[0;32mfor\u001b[0m \u001b[0mx\u001b[0m \u001b[0;32min\u001b[0m \u001b[0minputs\u001b[0m\u001b[0;34m)\u001b[0m\u001b[0;34m:\u001b[0m\u001b[0;34m\u001b[0m\u001b[0m\n",
      "\u001b[0;32m~/EMD-VAE/env_END-VAE/lib/python3.5/site-packages/keras/backend/tensorflow_backend.py\u001b[0m in \u001b[0;36m_call\u001b[0;34m(self, inputs)\u001b[0m\n\u001b[1;32m   2673\u001b[0m             \u001b[0mfetched\u001b[0m \u001b[0;34m=\u001b[0m \u001b[0mself\u001b[0m\u001b[0;34m.\u001b[0m\u001b[0m_callable_fn\u001b[0m\u001b[0;34m(\u001b[0m\u001b[0;34m*\u001b[0m\u001b[0marray_vals\u001b[0m\u001b[0;34m,\u001b[0m \u001b[0mrun_metadata\u001b[0m\u001b[0;34m=\u001b[0m\u001b[0mself\u001b[0m\u001b[0;34m.\u001b[0m\u001b[0mrun_metadata\u001b[0m\u001b[0;34m)\u001b[0m\u001b[0;34m\u001b[0m\u001b[0m\n\u001b[1;32m   2674\u001b[0m         \u001b[0;32melse\u001b[0m\u001b[0;34m:\u001b[0m\u001b[0;34m\u001b[0m\u001b[0m\n\u001b[0;32m-> 2675\u001b[0;31m             \u001b[0mfetched\u001b[0m \u001b[0;34m=\u001b[0m \u001b[0mself\u001b[0m\u001b[0;34m.\u001b[0m\u001b[0m_callable_fn\u001b[0m\u001b[0;34m(\u001b[0m\u001b[0;34m*\u001b[0m\u001b[0marray_vals\u001b[0m\u001b[0;34m)\u001b[0m\u001b[0;34m\u001b[0m\u001b[0m\n\u001b[0m\u001b[1;32m   2676\u001b[0m         \u001b[0;32mreturn\u001b[0m \u001b[0mfetched\u001b[0m\u001b[0;34m[\u001b[0m\u001b[0;34m:\u001b[0m\u001b[0mlen\u001b[0m\u001b[0;34m(\u001b[0m\u001b[0mself\u001b[0m\u001b[0;34m.\u001b[0m\u001b[0moutputs\u001b[0m\u001b[0;34m)\u001b[0m\u001b[0;34m]\u001b[0m\u001b[0;34m\u001b[0m\u001b[0m\n\u001b[1;32m   2677\u001b[0m \u001b[0;34m\u001b[0m\u001b[0m\n",
      "\u001b[0;32m~/EMD-VAE/env_END-VAE/lib/python3.5/site-packages/tensorflow/python/client/session.py\u001b[0m in \u001b[0;36m__call__\u001b[0;34m(self, *args)\u001b[0m\n\u001b[1;32m   1449\u001b[0m         \u001b[0;32mif\u001b[0m \u001b[0mself\u001b[0m\u001b[0;34m.\u001b[0m\u001b[0m_session\u001b[0m\u001b[0;34m.\u001b[0m\u001b[0m_created_with_new_api\u001b[0m\u001b[0;34m:\u001b[0m\u001b[0;34m\u001b[0m\u001b[0m\n\u001b[1;32m   1450\u001b[0m           return tf_session.TF_SessionRunCallable(\n\u001b[0;32m-> 1451\u001b[0;31m               self._session._session, self._handle, args, status, None)\n\u001b[0m\u001b[1;32m   1452\u001b[0m         \u001b[0;32melse\u001b[0m\u001b[0;34m:\u001b[0m\u001b[0;34m\u001b[0m\u001b[0m\n\u001b[1;32m   1453\u001b[0m           return tf_session.TF_DeprecatedSessionRunCallable(\n",
      "\u001b[0;31mKeyboardInterrupt\u001b[0m: "
     ]
    }
   ],
   "source": [
    "model.fit(train_data,train_labels,epochs=200,batch_size=300,validation_data=(valid_data,valid_labels))"
   ]
  },
  {
   "cell_type": "code",
   "execution_count": 34,
   "metadata": {},
   "outputs": [
    {
     "data": {
      "text/plain": [
       "array([[3.43942078e+02, 5.07611036e-01, 1.02473176e+00, ...,\n",
       "        1.00000000e+00, 0.00000000e+00, 0.00000000e+00],\n",
       "       [1.42019119e+02, 7.79691279e-01, 7.21251488e-01, ...,\n",
       "        1.00000000e+00, 0.00000000e+00, 0.00000000e+00],\n",
       "       [5.07226105e+01, 1.52828991e-01, 1.67351723e+00, ...,\n",
       "        1.00000000e+00, 0.00000000e+00, 0.00000000e+00],\n",
       "       ...,\n",
       "       [0.00000000e+00, 0.00000000e+00, 0.00000000e+00, ...,\n",
       "        0.00000000e+00, 0.00000000e+00, 0.00000000e+00],\n",
       "       [0.00000000e+00, 0.00000000e+00, 0.00000000e+00, ...,\n",
       "        0.00000000e+00, 0.00000000e+00, 0.00000000e+00],\n",
       "       [0.00000000e+00, 0.00000000e+00, 0.00000000e+00, ...,\n",
       "        0.00000000e+00, 0.00000000e+00, 0.00000000e+00]])"
      ]
     },
     "execution_count": 34,
     "metadata": {},
     "output_type": "execute_result"
    }
   ],
   "source": [
    "train_data[5]"
   ]
  },
  {
   "cell_type": "code",
   "execution_count": 39,
   "metadata": {},
   "outputs": [
    {
     "data": {
      "text/plain": [
       "703.7472639679909"
      ]
     },
     "execution_count": 39,
     "metadata": {},
     "output_type": "execute_result"
    }
   ],
   "source": [
    "np.sum(data[0,:,0],axis=-1)"
   ]
  },
  {
   "cell_type": "code",
   "execution_count": 43,
   "metadata": {},
   "outputs": [
    {
     "data": {
      "text/plain": [
       "array([[ 0.22070922,  0.40778416, -2.45515513, ...,  0.        ,\n",
       "         0.        ,  0.        ],\n",
       "       [ 0.14192642, -0.61937547, -2.71475029, ...,  0.        ,\n",
       "         0.        ,  0.        ],\n",
       "       [ 0.1364755 ,  0.40481746, -2.4508605 , ...,  0.        ,\n",
       "         0.        ,  0.        ],\n",
       "       ...,\n",
       "       [ 0.        ,  0.        ,  0.        , ...,  0.        ,\n",
       "         0.        ,  0.        ],\n",
       "       [ 0.        ,  0.        ,  0.        , ...,  0.        ,\n",
       "         0.        ,  0.        ],\n",
       "       [ 0.        ,  0.        ,  0.        , ...,  0.        ,\n",
       "         0.        ,  0.        ]])"
      ]
     },
     "execution_count": 43,
     "metadata": {},
     "output_type": "execute_result"
    }
   ],
   "source": [
    "data[0]"
   ]
  },
  {
   "cell_type": "code",
   "execution_count": null,
   "metadata": {},
   "outputs": [],
   "source": []
  }
 ],
 "metadata": {
  "kernelspec": {
   "display_name": "EMD-VAE_python3",
   "language": "python",
   "name": "emd-vae_python3"
  },
  "language_info": {
   "codemirror_mode": {
    "name": "ipython",
    "version": 3
   },
   "file_extension": ".py",
   "mimetype": "text/x-python",
   "name": "python",
   "nbconvert_exporter": "python",
   "pygments_lexer": "ipython3",
   "version": "3.5.2"
  }
 },
 "nbformat": 4,
 "nbformat_minor": 2
}
