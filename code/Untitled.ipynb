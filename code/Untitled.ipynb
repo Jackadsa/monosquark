{
 "cells": [
  {
   "cell_type": "code",
   "execution_count": 1,
   "metadata": {},
   "outputs": [
    {
     "name": "stdout",
     "output_type": "stream",
     "text": [
      "Welcome to JupyROOT 6.18/00\n"
     ]
    }
   ],
   "source": [
    "import numpy as np\n",
    "import root_numpy as root"
   ]
  },
  {
   "cell_type": "code",
   "execution_count": 2,
   "metadata": {},
   "outputs": [],
   "source": [
    "from root_numpy import root2array, testdata"
   ]
  },
  {
   "cell_type": "code",
   "execution_count": 3,
   "metadata": {},
   "outputs": [
    {
     "name": "stderr",
     "output_type": "stream",
     "text": [
      "Warning in <TClass::Init>: no dictionary for class HepMCEvent is available\n",
      "Warning in <TClass::Init>: no dictionary for class Event is available\n",
      "Warning in <TClass::Init>: no dictionary for class GenParticle is available\n",
      "Warning in <TClass::Init>: no dictionary for class SortableObject is available\n",
      "Warning in <TClass::Init>: no dictionary for class Track is available\n",
      "Warning in <TClass::Init>: no dictionary for class Tower is available\n",
      "Warning in <TClass::Init>: no dictionary for class Jet is available\n",
      "Warning in <TClass::Init>: no dictionary for class MissingET is available\n",
      "Warning in <TClass::Init>: no dictionary for class Electron is available\n",
      "Warning in <TClass::Init>: no dictionary for class Photon is available\n",
      "Warning in <TClass::Init>: no dictionary for class Muon is available\n",
      "Warning in <TClass::Init>: no dictionary for class ScalarHT is available\n"
     ]
    }
   ],
   "source": [
    "root_file = '/home/jack/MG5_aMC_v2_6_6/MSSM_squarkwino/Events/run_01/tag_2_delphes_events.root'\n",
    "\n",
    "numpy_data = root2array(root_file,'Delphes;1',branches=['Jet.Constituents'])"
   ]
  },
  {
   "cell_type": "code",
   "execution_count": 4,
   "metadata": {},
   "outputs": [
    {
     "name": "stderr",
     "output_type": "stream",
     "text": [
      "/home/jack/.virtualenvs/BNN_env_python3.6/lib/python3.6/site-packages/root_numpy/_tree.py:116: DeprecationWarning: list_structures is deprecated and will be removed in 5.0.0.\n",
      "  \"removed in 5.0.0.\", DeprecationWarning)\n"
     ]
    },
    {
     "data": {
      "text/plain": [
       "OrderedDict([('Event', [('Event_', 'int')]),\n",
       "             ('Event_size', [('Event_size', 'int')]),\n",
       "             ('Particle', [('Particle_', 'int')]),\n",
       "             ('Particle_size', [('Particle_size', 'int')]),\n",
       "             ('Track', [('Track_', 'int')]),\n",
       "             ('Track_size', [('Track_size', 'int')]),\n",
       "             ('Tower', [('Tower_', 'int')]),\n",
       "             ('Tower_size', [('Tower_size', 'int')]),\n",
       "             ('EFlowTrack', [('EFlowTrack_', 'int')]),\n",
       "             ('EFlowTrack_size', [('EFlowTrack_size', 'int')]),\n",
       "             ('EFlowPhoton', [('EFlowPhoton_', 'int')]),\n",
       "             ('EFlowPhoton_size', [('EFlowPhoton_size', 'int')]),\n",
       "             ('EFlowNeutralHadron', [('EFlowNeutralHadron_', 'int')]),\n",
       "             ('EFlowNeutralHadron_size', [('EFlowNeutralHadron_size', 'int')]),\n",
       "             ('GenJet', [('GenJet_', 'int')]),\n",
       "             ('GenJet_size', [('GenJet_size', 'int')]),\n",
       "             ('GenMissingET', [('GenMissingET_', 'int')]),\n",
       "             ('GenMissingET_size', [('GenMissingET_size', 'int')]),\n",
       "             ('Jet', [('Jet_', 'int')]),\n",
       "             ('Jet_size', [('Jet_size', 'int')]),\n",
       "             ('Electron', [('Electron_', 'int')]),\n",
       "             ('Electron_size', [('Electron_size', 'int')]),\n",
       "             ('Photon', [('Photon_', 'int')]),\n",
       "             ('Photon_size', [('Photon_size', 'int')]),\n",
       "             ('Muon', [('Muon_', 'int')]),\n",
       "             ('Muon_size', [('Muon_size', 'int')]),\n",
       "             ('FatJet', [('FatJet_', 'int')]),\n",
       "             ('FatJet_size', [('FatJet_size', 'int')]),\n",
       "             ('MissingET', [('MissingET_', 'int')]),\n",
       "             ('MissingET_size', [('MissingET_size', 'int')]),\n",
       "             ('ScalarHT', [('ScalarHT_', 'int')]),\n",
       "             ('ScalarHT_size', [('ScalarHT_size', 'int')])])"
      ]
     },
     "execution_count": 4,
     "metadata": {},
     "output_type": "execute_result"
    }
   ],
   "source": [
    "root.list_structures(root_file)"
   ]
  },
  {
   "cell_type": "code",
   "execution_count": 5,
   "metadata": {
    "scrolled": true
   },
   "outputs": [
    {
     "data": {
      "text/plain": [
       "array([(array([0., 0., 0., 0., 0., 0., 0., 0., 0.]),),\n",
       "       (array([0., 0., 0., 0., 0., 0., 0., 0.]),),\n",
       "       (array([0., 0., 0., 0., 0., 0., 0.]),), ...,\n",
       "       (array([0., 0., 0., 0., 0., 0.]),), (array([0., 0., 0., 0.]),),\n",
       "       (array([0., 0., 0., 0.]),)], dtype=[('Jet.Constituents', 'O')])"
      ]
     },
     "execution_count": 5,
     "metadata": {},
     "output_type": "execute_result"
    }
   ],
   "source": [
    "numpy_data"
   ]
  },
  {
   "cell_type": "code",
   "execution_count": 41,
   "metadata": {},
   "outputs": [],
   "source": [
    "for event in numpy_data:\n",
    "    if len(event[0]) >= 3:\n",
    "        event[0] = event[0][:3]\n",
    "    else:\n",
    "        event[0] = np.ones(3)*1."
   ]
  },
  {
   "cell_type": "code",
   "execution_count": 56,
   "metadata": {},
   "outputs": [
    {
     "data": {
      "text/plain": [
       "dtype([('Jet.PT', 'O')])"
      ]
     },
     "execution_count": 56,
     "metadata": {},
     "output_type": "execute_result"
    }
   ],
   "source": [
    "numpy_data.dtype"
   ]
  },
  {
   "cell_type": "code",
   "execution_count": 67,
   "metadata": {},
   "outputs": [
    {
     "ename": "ValueError",
     "evalue": "could not broadcast input array from shape (10000) into shape (10000,3)",
     "output_type": "error",
     "traceback": [
      "\u001b[0;31m---------------------------------------------------------------------------\u001b[0m",
      "\u001b[0;31mValueError\u001b[0m                                Traceback (most recent call last)",
      "\u001b[0;32m<ipython-input-67-1110df4360c9>\u001b[0m in \u001b[0;36m<module>\u001b[0;34m\u001b[0m\n\u001b[0;32m----> 1\u001b[0;31m \u001b[0mnumpy_data\u001b[0m\u001b[0;34m.\u001b[0m\u001b[0mastype\u001b[0m\u001b[0;34m(\u001b[0m\u001b[0;34m(\u001b[0m\u001b[0mnp\u001b[0m\u001b[0;34m.\u001b[0m\u001b[0mfloat64\u001b[0m\u001b[0;34m,\u001b[0m\u001b[0;34m(\u001b[0m\u001b[0;36m3\u001b[0m\u001b[0;34m,\u001b[0m\u001b[0;34m)\u001b[0m\u001b[0;34m)\u001b[0m\u001b[0;34m)\u001b[0m\u001b[0;34m\u001b[0m\u001b[0;34m\u001b[0m\u001b[0m\n\u001b[0m",
      "\u001b[0;31mValueError\u001b[0m: could not broadcast input array from shape (10000) into shape (10000,3)"
     ]
    }
   ],
   "source": [
    "numpy_data.astype((np.float64,(3,)))"
   ]
  },
  {
   "cell_type": "code",
   "execution_count": 7,
   "metadata": {},
   "outputs": [],
   "source": [
    "import matplotlib.pyplot as plt"
   ]
  },
  {
   "cell_type": "code",
   "execution_count": 19,
   "metadata": {},
   "outputs": [
    {
     "data": {
      "image/png": "[encoded data removed]",
      "text/plain": [
       "<Figure size 432x288 with 1 Axes>"
      ]
     },
     "metadata": {
      "needs_background": "light"
     },
     "output_type": "display_data"
    }
   ],
   "source": [
    "plt.hist(numpy_data.astype(np.float64))\n",
    "plt.show()"
   ]
  },
  {
   "cell_type": "code",
   "execution_count": 70,
   "metadata": {},
   "outputs": [],
   "source": [
    "from ROOT import gROOT, TCanvas, TF1"
   ]
  },
  {
   "cell_type": "code",
   "execution_count": 72,
   "metadata": {},
   "outputs": [],
   "source": [
    "import rootpy\n",
    "from rootpy.io import root_open"
   ]
  },
  {
   "cell_type": "code",
   "execution_count": 104,
   "metadata": {},
   "outputs": [],
   "source": [
    "root_file = '/home/jack/MG5_aMC_v2_6_6/MSSM_squarkwino/Events/run_01/tag_2_delphes_events.root'\n",
    "myfile = root_open(root_file)"
   ]
  },
  {
   "cell_type": "code",
   "execution_count": 120,
   "metadata": {},
   "outputs": [
    {
     "name": "stdout",
     "output_type": "stream",
     "text": [
      "Collection name='TObjArray', class='TObjArray', size=16\n",
      " OBJ: TLeafElement\tJet.Constituents\tConstituents[Jet_]\n"
     ]
    }
   ],
   "source": [
    "myfile.Delphes.GetBranch('Jet.Constituents').GetListOfLeaves().Print()"
   ]
  },
  {
   "cell_type": "code",
   "execution_count": 131,
   "metadata": {
    "scrolled": true
   },
   "outputs": [
    {
     "data": {
      "text/plain": [
       "0.0"
      ]
     },
     "execution_count": 131,
     "metadata": {},
     "output_type": "execute_result"
    }
   ],
   "source": [
    "myfile.Delphes.GetBranch('Jet.Constituents').GetLeaf('Jet.Constituents').GetValue(2)"
   ]
  },
  {
   "cell_type": "code",
   "execution_count": 81,
   "metadata": {},
   "outputs": [],
   "source": [
    "from rootpy.testdata import get_file"
   ]
  },
  {
   "cell_type": "code",
   "execution_count": 83,
   "metadata": {},
   "outputs": [
    {
     "data": {
      "text/plain": [
       "File('/home/jack/.virtualenvs/BNN_env_python3.6/lib/python3.6/site-packages/rootpy/testdata/test_file.root')"
      ]
     },
     "execution_count": 83,
     "metadata": {},
     "output_type": "execute_result"
    }
   ],
   "source": [
    "get_file()"
   ]
  },
  {
   "cell_type": "code",
   "execution_count": null,
   "metadata": {},
   "outputs": [],
   "source": []
  }
 ],
 "metadata": {
  "kernelspec": {
   "display_name": "BNN_env_python3.6",
   "language": "python",
   "name": "bnn_env_python3.6"
  },
  "language_info": {
   "codemirror_mode": {
    "name": "ipython",
    "version": 3
   },
   "file_extension": ".py",
   "mimetype": "text/x-python",
   "name": "python",
   "nbconvert_exporter": "python",
   "pygments_lexer": "ipython3",
   "version": "3.6.8"
  }
 },
 "nbformat": 4,
 "nbformat_minor": 2
}
