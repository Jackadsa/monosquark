{
 "cells": [
  {
   "cell_type": "code",
   "execution_count": 1,
   "metadata": {},
   "outputs": [
    {
     "name": "stdout",
     "output_type": "stream",
     "text": [
      "Welcome to JupyROOT 6.18/00\n"
     ]
    }
   ],
   "source": [
    "import sys\n",
    "import rootpy.ROOT as ROOT\n",
    "import numpy as np\n"
   ]
  },
  {
   "cell_type": "code",
   "execution_count": 2,
   "metadata": {},
   "outputs": [
    {
     "data": {
      "text/html": [
       "<script>\n",
       "code_show_err=false; \n",
       "function code_toggle_err() {\n",
       " if (code_show_err){\n",
       " $('div.output_stderr').hide();\n",
       " } else {\n",
       " $('div.output_stderr').show();\n",
       " }\n",
       " code_show_err = !code_show_err\n",
       "} \n",
       "$( document ).ready(code_toggle_err);\n",
       "</script>\n",
       "To toggle on/off output_stderr, click <a href=\"javascript:code_toggle_err()\">here</a>."
      ],
      "text/plain": [
       "<IPython.core.display.HTML object>"
      ]
     },
     "execution_count": 2,
     "metadata": {},
     "output_type": "execute_result"
    }
   ],
   "source": [
    "from IPython.display import HTML\n",
    "HTML('''<script>\n",
    "code_show_err=false; \n",
    "function code_toggle_err() {\n",
    " if (code_show_err){\n",
    " $('div.output_stderr').hide();\n",
    " } else {\n",
    " $('div.output_stderr').show();\n",
    " }\n",
    " code_show_err = !code_show_err\n",
    "} \n",
    "$( document ).ready(code_toggle_err);\n",
    "</script>\n",
    "To toggle on/off output_stderr, click <a href=\"javascript:code_toggle_err()\">here</a>.''')"
   ]
  },
  {
   "cell_type": "code",
   "execution_count": 3,
   "metadata": {
    "scrolled": false
   },
   "outputs": [
    {
     "name": "stderr",
     "output_type": "stream",
     "text": [
      "DEBUG:matplotlib] CONFIGDIR=/home/jack/.config/matplotlib\n",
      "DEBUG:matplotlib] matplotlib data path: /home/jack/.virtualenvs/BNN_env_python3.6/lib/python3.6/site-packages/matplotlib/mpl-data\n",
      "DEBUG:matplotlib] loaded rc file /home/jack/.virtualenvs/BNN_env_python3.6/lib/python3.6/site-packages/matplotlib/mpl-data/matplotlibrc\n",
      "DEBUG:matplotlib] matplotlib version 3.1.0\n",
      "DEBUG:matplotlib] interactive is False\n",
      "DEBUG:matplotlib] platform is linux\n",
      "DEBUG:matplotlib] loaded modules: ['builtins', 'sys', '_frozen_importlib', '_imp', '_warnings', '_thread', '_weakref', '_frozen_importlib_external', '_io', 'marshal', 'posix', 'zipimport', 'encodings', 'codecs', '_codecs', 'encodings.aliases', 'encodings.utf_8', '_signal', '__main__', 'encodings.latin_1', 'io', 'abc', '_weakrefset', '_bootlocale', '_locale', 'site', 'os', 'errno', 'stat', '_stat', 'posixpath', 'genericpath', 'os.path', '_collections_abc', '_sitebuiltins', 'types', 'functools', '_functools', 'collections', 'operator', '_operator', 'keyword', 'heapq', '_heapq', 'itertools', 'reprlib', '_collections', 'weakref', 'collections.abc', 'importlib', 'importlib._bootstrap', 'importlib._bootstrap_external', 'warnings', 'importlib.util', 'importlib.abc', 'importlib.machinery', 'contextlib', 'mpl_toolkits', 'google', 'sysconfig', '_sysconfigdata_m_linux_x86_64-linux-gnu', 'sitecustomize', 'runpy', 'pkgutil', 'ipykernel', 'ipykernel._version', 'ipykernel.connect', '__future__', 'json', 'json.decoder', 're', 'enum', 'sre_compile', '_sre', 'sre_parse', 'sre_constants', 'copyreg', 'json.scanner', '_json', 'json.encoder', 'subprocess', 'time', 'signal', '_posixsubprocess', 'select', 'selectors', 'math', 'threading', 'traceback', 'linecache', 'tokenize', 'token', 'IPython', 'IPython.core', 'IPython.core.getipython', 'IPython.core.release', 'IPython.core.application', 'atexit', 'copy', 'glob', 'fnmatch', 'logging', 'string', '_string', 'shutil', 'zlib', 'bz2', '_compression', '_bz2', 'lzma', '_lzma', 'pwd', 'grp', 'traitlets', 'traitlets.traitlets', 'inspect', 'ast', '_ast', 'dis', 'opcode', '_opcode', 'six', 'struct', '_struct', 'traitlets.utils', 'traitlets.utils.getargspec', 'traitlets.utils.importstring', 'ipython_genutils', 'ipython_genutils._version', 'ipython_genutils.py3compat', 'ipython_genutils.encoding', 'locale', 'platform', 'traitlets.utils.sentinel', 'traitlets.utils.bunch', 'traitlets._version', 'traitlets.config', 'traitlets.config.application', 'decorator', 'traitlets.config.configurable', 'traitlets.config.loader', 'argparse', 'textwrap', 'gettext', 'ipython_genutils.path', 'random', 'hashlib', '_hashlib', '_blake2', '_sha3', 'bisect', '_bisect', '_random', 'ipython_genutils.text', 'ipython_genutils.importstring', 'IPython.core.crashhandler', 'pprint', 'IPython.core.ultratb', 'pydoc', 'urllib', 'urllib.parse', 'IPython.core.debugger', 'bdb', 'IPython.utils', 'IPython.utils.PyColorize', 'IPython.utils.coloransi', 'IPython.utils.ipstruct', 'IPython.utils.colorable', 'pygments', 'pygments.util', 'IPython.utils.py3compat', 'IPython.utils.encoding', 'IPython.core.excolors', 'IPython.testing', 'IPython.testing.skipdoctest', 'pdb', 'cmd', 'code', 'codeop', 'IPython.core.display_trap', 'IPython.utils.path', 'IPython.utils.process', 'IPython.utils._process_posix', 'pexpect', 'pexpect.exceptions', 'pexpect.utils', 'pexpect.expect', 'pexpect.pty_spawn', 'pty', 'tty', 'termios', 'ptyprocess', 'ptyprocess.ptyprocess', 'fcntl', 'resource', 'ptyprocess.util', 'pexpect.spawnbase', 'pexpect.run', 'IPython.utils._process_common', 'shlex', 'IPython.utils.decorators', 'IPython.utils.data', 'IPython.utils.terminal', 'IPython.utils.sysinfo', 'IPython.utils._sysinfo', 'IPython.core.profiledir', 'IPython.paths', 'tempfile', 'IPython.utils.importstring', 'IPython.terminal', 'IPython.terminal.embed', 'IPython.core.compilerop', 'IPython.core.magic_arguments', 'IPython.core.error', 'IPython.utils.text', 'pathlib', 'ntpath', 'IPython.core.magic', 'getopt', 'IPython.core.oinspect', 'IPython.core.page', 'IPython.core.display', 'binascii', 'mimetypes', 'IPython.lib', 'IPython.lib.security', 'getpass', 'IPython.lib.pretty', 'datetime', '_datetime', 'IPython.utils.openpy', 'IPython.utils.dir2', 'IPython.utils.wildcard', 'pygments.lexers', 'pygments.lexers._mapping', 'pygments.modeline', 'pygments.plugin', 'pygments.lexers.python', 'pygments.lexer', 'pygments.filter', 'pygments.filters', 'pygments.token', 'pygments.regexopt', 'pygments.unistring', 'pygments.formatters', 'pygments.formatters._mapping', 'pygments.formatters.html', 'pygments.formatter', 'pygments.styles', 'IPython.core.inputtransformer2', 'typing', 'typing.io', 'typing.re', 'IPython.core.interactiveshell', 'asyncio', 'asyncio.base_events', 'concurrent', 'concurrent.futures', 'concurrent.futures._base', 'concurrent.futures.process', 'queue', 'multiprocessing', 'multiprocessing.context', 'multiprocessing.process', 'multiprocessing.reduction', 'pickle', '_compat_pickle', '_pickle', 'socket', '_socket', 'array', '__mp_main__', 'multiprocessing.connection', '_multiprocessing', 'multiprocessing.util', 'concurrent.futures.thread', 'asyncio.compat', 'asyncio.coroutines', 'asyncio.constants', 'asyncio.events', 'asyncio.base_futures', 'asyncio.log', 'asyncio.futures', 'asyncio.base_tasks', '_asyncio', 'asyncio.tasks', 'asyncio.locks', 'asyncio.protocols', 'asyncio.queues', 'asyncio.streams', 'asyncio.subprocess', 'asyncio.transports', 'asyncio.unix_events', 'asyncio.base_subprocess', 'asyncio.selector_events', 'ssl', 'ipaddress', '_ssl', 'base64', 'asyncio.sslproto', 'pickleshare', 'IPython.core.prefilter', 'IPython.core.autocall', 'IPython.core.macro', 'IPython.core.splitinput', 'IPython.core.alias', 'IPython.core.builtin_trap', 'IPython.core.events', 'backcall', 'backcall.backcall', 'IPython.core.displayhook', 'IPython.core.displaypub', 'IPython.core.extensions', 'IPython.core.formatters', 'IPython.utils.sentinel', 'IPython.core.history', 'sqlite3', 'sqlite3.dbapi2', '_sqlite3', 'IPython.core.logger', 'IPython.core.payload', 'IPython.core.usage', 'IPython.display', 'IPython.lib.display', 'html', 'html.entities', 'IPython.utils.io', 'IPython.utils.capture', 'IPython.utils.strdispatch', 'IPython.core.hooks', 'IPython.utils.syspathcontext', 'IPython.utils.tempdir', 'IPython.utils.contexts', 'IPython.core.async_helpers', 'IPython.terminal.interactiveshell', 'prompt_toolkit', 'prompt_toolkit.application', 'prompt_toolkit.application.application', 'prompt_toolkit.buffer', 'prompt_toolkit.application.current', 'prompt_toolkit.eventloop', 'prompt_toolkit.eventloop.base', 'prompt_toolkit.log', 'prompt_toolkit.eventloop.coroutine', 'prompt_toolkit.eventloop.defaults', 'prompt_toolkit.utils', 'six.moves', 'wcwidth', 'wcwidth.wcwidth', 'wcwidth.table_wide', 'wcwidth.table_zero', 'prompt_toolkit.cache', 'prompt_toolkit.eventloop.future', 'prompt_toolkit.eventloop.context', 'prompt_toolkit.eventloop.async_generator', 'six.moves.queue', 'prompt_toolkit.eventloop.event', 'prompt_toolkit.application.run_in_terminal', 'prompt_toolkit.auto_suggest', 'prompt_toolkit.filters', 'prompt_toolkit.filters.base', 'prompt_toolkit.filters.app', 'prompt_toolkit.enums', 'prompt_toolkit.filters.utils', 'prompt_toolkit.filters.cli', 'prompt_toolkit.clipboard', 'prompt_toolkit.clipboard.base', 'prompt_toolkit.selection', 'prompt_toolkit.clipboard.in_memory', 'prompt_toolkit.completion', 'prompt_toolkit.completion.base', 'prompt_toolkit.completion.filesystem', 'prompt_toolkit.completion.word_completer', 'prompt_toolkit.completion.fuzzy_completer', 'prompt_toolkit.document', 'prompt_toolkit.history', 'prompt_toolkit.search', 'prompt_toolkit.key_binding', 'prompt_toolkit.key_binding.key_bindings', 'prompt_toolkit.keys', 'prompt_toolkit.key_binding.vi_state', 'prompt_toolkit.validation', 'prompt_toolkit.input', 'prompt_toolkit.input.base', 'prompt_toolkit.input.defaults', 'prompt_toolkit.input.typeahead', 'prompt_toolkit.key_binding.bindings', 'prompt_toolkit.key_binding.bindings.page_navigation', 'prompt_toolkit.key_binding.bindings.scroll', 'prompt_toolkit.key_binding.defaults', 'prompt_toolkit.key_binding.bindings.basic', 'prompt_toolkit.key_binding.key_processor', 'prompt_toolkit.key_binding.bindings.named_commands', 'prompt_toolkit.key_binding.bindings.completion', 'prompt_toolkit.key_binding.bindings.emacs', 'prompt_toolkit.key_binding.bindings.vi', 'prompt_toolkit.input.vt100_parser', 'prompt_toolkit.input.ansi_escape_sequences', 'prompt_toolkit.key_binding.digraphs', 'prompt_toolkit.key_binding.bindings.mouse', 'prompt_toolkit.layout', 'prompt_toolkit.layout.containers', 'prompt_toolkit.layout.controls', 'prompt_toolkit.formatted_text', 'prompt_toolkit.formatted_text.base', 'prompt_toolkit.formatted_text.html', 'xml', 'xml.dom', 'xml.dom.domreg', 'xml.dom.minidom', 'xml.dom.minicompat', 'xml.dom.xmlbuilder', 'xml.dom.NodeFilter', 'prompt_toolkit.formatted_text.ansi', 'prompt_toolkit.output', 'prompt_toolkit.output.base', 'prompt_toolkit.layout.screen', 'prompt_toolkit.output.defaults', 'prompt_toolkit.output.color_depth', 'prompt_toolkit.output.vt100', 'prompt_toolkit.styles', 'prompt_toolkit.styles.base', 'prompt_toolkit.styles.defaults', 'prompt_toolkit.styles.style', 'prompt_toolkit.styles.named_colors', 'prompt_toolkit.styles.pygments', 'prompt_toolkit.styles.style_transformation', 'colorsys', 'prompt_toolkit.formatted_text.pygments', 'prompt_toolkit.formatted_text.utils', 'prompt_toolkit.lexers', 'prompt_toolkit.lexers.base', 'prompt_toolkit.lexers.pygments', 'prompt_toolkit.mouse_events', 'prompt_toolkit.layout.processors', 'prompt_toolkit.layout.utils', 'prompt_toolkit.layout.dimension', 'prompt_toolkit.layout.margins', 'prompt_toolkit.layout.layout', 'prompt_toolkit.layout.menus', 'prompt_toolkit.renderer', 'prompt_toolkit.layout.mouse_handlers', 'prompt_toolkit.key_binding.bindings.cpr', 'prompt_toolkit.key_binding.emacs_state', 'prompt_toolkit.layout.dummy', 'prompt_toolkit.application.dummy', 'prompt_toolkit.shortcuts', 'prompt_toolkit.shortcuts.dialogs', 'prompt_toolkit.key_binding.bindings.focus', 'prompt_toolkit.widgets', 'prompt_toolkit.widgets.base', 'prompt_toolkit.widgets.toolbars', 'prompt_toolkit.widgets.dialogs', 'prompt_toolkit.widgets.menus', 'prompt_toolkit.shortcuts.prompt', 'prompt_toolkit.key_binding.bindings.auto_suggest', 'prompt_toolkit.key_binding.bindings.open_in_editor', 'prompt_toolkit.shortcuts.utils', 'prompt_toolkit.shortcuts.progress_bar', 'prompt_toolkit.shortcuts.progress_bar.base', 'prompt_toolkit.shortcuts.progress_bar.formatters', 'prompt_toolkit.patch_stdout', 'pygments.style', 'IPython.terminal.debugger', 'IPython.core.completer', 'unicodedata', 'IPython.core.latex_symbols', 'IPython.utils.generics', 'jedi', 'jedi.api', 'parso', 'parso.parser', 'parso.tree', 'parso._compatibility', 'parso.utils', 'parso.pgen2', 'parso.pgen2.generator', 'parso.pgen2.grammar_parser', 'parso.python', 'parso.python.tokenize', 'parso.python.token', 'parso.grammar', 'parso.python.diff', 'difflib', 'parso.python.parser', 'parso.python.tree', 'parso.python.prefix', 'parso.cache', 'gc', 'parso.python.errors', 'parso.normalizer', 'parso.python.pep8', 'parso.file_io', 'jedi._compatibility', 'jedi.parser_utils', 'jedi.debug', 'jedi.settings', 'jedi.cache', 'jedi.api.classes', 'jedi.evaluate', 'jedi.evaluate.utils', 'jedi.evaluate.imports', 'jedi.evaluate.sys_path', 'jedi.evaluate.cache', 'jedi.evaluate.base_context', 'jedi.common', 'jedi.common.context', 'jedi.evaluate.helpers', 'jedi.common.utils', 'jedi.evaluate.compiled', 'jedi.evaluate.compiled.context', 'jedi.evaluate.filters', 'jedi.evaluate.flow_analysis', 'jedi.evaluate.recursion', 'jedi.evaluate.lazy_context', 'jedi.evaluate.compiled.access', 'jedi.evaluate.compiled.getattr_static', 'jedi.evaluate.compiled.fake', 'jedi.evaluate.analysis', 'jedi.evaluate.context', 'jedi.evaluate.context.module', 'jedi.evaluate.context.klass', 'jedi.evaluate.context.function', 'jedi.evaluate.docstrings', 'jedi.evaluate.pep0484', 'jedi.evaluate.arguments', 'jedi.evaluate.context.iterable', 'jedi.evaluate.param', 'jedi.evaluate.context.asynchronous', 'jedi.evaluate.parser_cache', 'jedi.evaluate.context.instance', 'jedi.evaluate.syntax_tree', 'jedi.evaluate.finder', 'jedi.api.keywords', 'pydoc_data', 'pydoc_data.topics', 'jedi.api.interpreter', 'jedi.evaluate.compiled.mixed', 'jedi.api.helpers', 'jedi.api.completion', 'jedi.api.environment', 'filecmp', 'jedi.evaluate.compiled.subprocess', 'jedi.evaluate.compiled.subprocess.functions', 'jedi.api.exceptions', 'jedi.api.project', 'jedi.evaluate.usages', 'IPython.terminal.ptutils', 'IPython.terminal.shortcuts', 'IPython.terminal.magics', 'IPython.lib.clipboard', 'IPython.terminal.pt_inputhooks', 'IPython.terminal.prompts', 'IPython.terminal.ipapp', 'IPython.core.magics', 'IPython.core.magics.auto', 'IPython.core.magics.basic', 'IPython.core.magics.code', 'urllib.request', 'email', 'http', 'http.client', 'email.parser', 'email.feedparser', 'email.errors', 'email._policybase', 'email.header', 'email.quoprimime', 'email.base64mime', 'email.charset', 'email.encoders', 'quopri', 'email.utils', 'email._parseaddr', 'calendar', 'email.message', 'uu', 'email._encoded_words', 'email.iterators', 'urllib.error', 'urllib.response', 'IPython.core.magics.config', 'IPython.core.magics.display', 'IPython.core.magics.execution', 'timeit', 'cProfile', '_lsprof', 'profile', 'optparse', 'pstats', 'IPython.utils.module_paths', 'IPython.utils.timing', 'IPython.core.magics.extension', 'IPython.core.magics.history', 'IPython.core.magics.logging', 'IPython.core.magics.namespace', 'IPython.core.magics.osm', 'IPython.core.magics.packaging', 'IPython.core.magics.pylab', 'IPython.core.pylabtools', 'IPython.core.magics.script', 'IPython.lib.backgroundjobs', 'IPython.core.shellapp', 'IPython.extensions', 'IPython.extensions.storemagic', 'IPython.utils.frame', 'jupyter_client', 'jupyter_client._version', 'jupyter_client.connect', 'zmq', 'ctypes', '_ctypes', 'ctypes._endian', 'zmq.backend', 'zmq.backend.select', 'zmq.backend.cython', 'zmq.backend.cython.constants', 'cython_runtime', 'zmq.backend.cython.error', '_cython_0_29_6', 'zmq.backend.cython.message', 'zmq.error', 'zmq.backend.cython.context', 'zmq.backend.cython.socket', 'zmq.backend.cython.utils', 'zmq.backend.cython._poll', 'zmq.backend.cython._version', 'zmq.backend.cython._device', 'zmq.backend.cython._proxy_steerable', 'zmq.sugar', 'zmq.sugar.constants', 'zmq.utils', 'zmq.utils.constant_names', 'zmq.sugar.context', 'zmq.sugar.attrsettr', 'zmq.sugar.socket', 'zmq.sugar.poll', 'zmq.utils.jsonapi', 'zmq.utils.strtypes', 'zmq.sugar.frame', 'zmq.sugar.tracker', 'zmq.sugar.version', 'zmq.sugar.stopwatch', 'jupyter_client.localinterfaces', 'jupyter_core', 'jupyter_core.version', 'jupyter_core.paths', 'jupyter_client.launcher', 'traitlets.log', 'jupyter_client.client', 'jupyter_client.channels', 'jupyter_client.channelsabc', 'jupyter_client.clientabc', 'jupyter_client.manager', 'jupyter_client.kernelspec', 'jupyter_client.managerabc', 'jupyter_client.blocking', 'jupyter_client.blocking.client', 'jupyter_client.blocking.channels', 'jupyter_client.multikernelmanager', 'uuid', 'ctypes.util', 'ipykernel.kernelapp', 'tornado', 'tornado.ioloop', 'numbers', 'tornado.concurrent', 'tornado.log', 'logging.handlers', 'tornado.escape', 'tornado.util', 'tornado.speedups', 'curses', '_curses', 'zmq.eventloop', 'zmq.eventloop.ioloop', 'tornado.platform', 'tornado.platform.asyncio', 'tornado.gen', 'zmq.eventloop.zmqstream', 'ipykernel.iostream', 'imp', 'jupyter_client.session', 'hmac', 'jupyter_client.jsonutil', 'dateutil', 'dateutil._version', 'dateutil.parser', 'dateutil.parser._parser', 'decimal', '_decimal', 'dateutil.relativedelta', 'dateutil._common', 'dateutil.tz', 'dateutil.tz.tz', 'dateutil.tz._common', 'dateutil.tz._factories', 'dateutil.parser.isoparser', '_strptime', 'jupyter_client.adapter', 'ipykernel.heartbeat', 'ipykernel.ipkernel', 'IPython.utils.tokenutil', 'ipykernel.comm', 'ipykernel.comm.manager', 'ipykernel.comm.comm', 'ipykernel.kernelbase', 'tornado.queues', 'tornado.locks', 'ipykernel.jsonutil', 'ipykernel.zmqshell', 'IPython.core.payloadpage', 'ipykernel.displayhook', 'ipykernel.parentpoller', 'faulthandler', 'ipykernel.datapub', 'ipykernel.serialize', 'ipykernel.pickleutil', 'ipykernel.codeutil', 'IPython.core.completerlib', 'storemagic', 'rootpy', 'ROOT', 'cppyy', 'ROOT.TObject', 'ROOT.TNamed', 'ROOT.TDirectory', 'ROOT.TROOT', 'ROOT.TSystem', 'ROOT.TUnixSystem', 'ROOT.TInterpreter', 'libPyROOT', 'ROOT.string', 'cppyy.gbl', '_pythonization', 'rlcompleter', 'readline', 'ROOT.std', 'ROOT.TAttLine', 'ROOT.TAttFill', 'ROOT.TAttMarker', 'ROOT.TTree', 'JupyROOT', 'JupyROOT.helpers', 'JupyROOT.helpers.cppcompleter', 'JupyROOT.helpers.utils', 'JupyROOT.helpers.handlers', 'ROOT.PyROOT', 'ROOT.TQObject', 'ROOT.TApplication', 'ROOT.PyROOT.TPyROOTApplication', 'ROOT.TString', 'ROOT.TAttText', 'ROOT.TStyle', 'JupyROOT.magics', 'JupyROOT.magics.cppmagic', 'JupyROOT.magics.jsrootmagic', 'JsMVA', 'JsMVA.JsMVAMagic', 'rootpy.extern', 'rootpy.extern.six', 'rootpy.logger', 'rootpy.logger.utils', 'rootpy.logger.extended_logger', 'rootpy.logger.formatter', 'rootpy.logger.magic', 'rootpy.extern.six.moves', 'rootpy.logger.roothandler', 'rootpy.utils', 'rootpy.utils.quickroot', 'rootpy.utils.module_facade', 'rootpy.defaults', 'ROOT.TH1', 'rootpy.base', 'rootpy.extern.shortuuid', 'rootpy.info', 'rootpy.ROOT', 'rootpy.stl', 'rootpy.extern.pyparsing', 'rootpy.utils.cpp', 'rootpy.utils.path', 'rootpy.utils.lock', 'rootpy.extern.lockfile', 'rootpy.extern.lockfile.linklockfile', 'rootpy.compiled', 'pkg_resources', 'zipfile', 'plistlib', 'xml.parsers', 'xml.parsers.expat', 'pyexpat.errors', 'pyexpat.model', 'pyexpat', 'xml.parsers.expat.model', 'xml.parsers.expat.errors', 'pkg_resources.extern', 'pkg_resources._vendor', 'pkg_resources.extern.six', 'pkg_resources._vendor.six', 'pkg_resources.extern.six.moves', 'pkg_resources._vendor.six.moves', 'pkg_resources.py31compat', 'pkg_resources.extern.appdirs', 'pkg_resources._vendor.packaging.__about__', 'pkg_resources.extern.packaging', 'pkg_resources.extern.packaging.version', 'pkg_resources.extern.packaging._structures', 'pkg_resources.extern.packaging.specifiers', 'pkg_resources.extern.packaging._compat', 'pkg_resources.extern.packaging.requirements', 'pkg_resources.extern.pyparsing', 'pkg_resources.extern.six.moves.urllib', 'pkg_resources.extern.packaging.markers', 'rootpy.userdata', 'numpy', 'numpy._globals', 'numpy.__config__', 'numpy.version', 'numpy._distributor_init', 'numpy.core', 'numpy.core.info', 'numpy.core.multiarray', 'numpy.core.overrides', 'numpy.core._multiarray_umath', 'numpy.compat', 'numpy.compat._inspect', 'numpy.compat.py3k', 'numpy.core.umath', 'numpy.core.numerictypes', 'numpy.core._string_helpers', 'numpy.core._type_aliases', 'numpy.core._dtype', 'numpy.core.numeric', 'numpy.core._internal', 'numpy.core.fromnumeric', 'numpy.core._methods', 'numpy.core.arrayprint', 'numpy.core.defchararray', 'numpy.core.records', 'numpy.core.memmap', 'numpy.core.function_base', 'numpy.core.machar', 'numpy.core.getlimits', 'numpy.core.shape_base', 'numpy.core.einsumfunc', 'numpy.core._add_newdocs', 'numpy.core._multiarray_tests', 'numpy.core._dtype_ctypes', 'numpy._pytesttester', 'numpy.lib', 'numpy.lib.info', 'numpy.lib.type_check', 'numpy.lib.ufunclike', 'numpy.lib.index_tricks', 'numpy.matrixlib', 'numpy.matrixlib.defmatrix', 'numpy.linalg', 'numpy.linalg.info', 'numpy.linalg.linalg', 'numpy.lib.twodim_base', 'numpy.linalg.lapack_lite', 'numpy.linalg._umath_linalg', 'numpy.lib.function_base', 'numpy.lib.utils', 'numpy.lib.histograms', 'numpy.lib.stride_tricks', 'numpy.lib.mixins', 'numpy.lib.nanfunctions', 'numpy.lib.shape_base', 'numpy.lib.scimath', 'numpy.lib.polynomial', 'numpy.lib.arraysetops', 'numpy.lib.npyio', 'numpy.lib.format', 'numpy.lib._datasource', 'numpy.lib._iotools', 'numpy.lib.financial', 'numpy.lib.arrayterator', 'numpy.lib.arraypad', 'numpy.lib._version', 'numpy.fft', 'numpy.fft.info', 'numpy.fft.fftpack', 'numpy.fft.fftpack_lite', 'numpy.fft.helper', 'numpy.polynomial', 'numpy.polynomial.polynomial', 'numpy.polynomial.polyutils', 'numpy.polynomial._polybase', 'numpy.polynomial.chebyshev', 'numpy.polynomial.legendre', 'numpy.polynomial.hermite', 'numpy.polynomial.hermite_e', 'numpy.polynomial.laguerre', 'numpy.random', 'numpy.random.mtrand', 'mtrand', 'numpy.ctypeslib', 'numpy.ma', 'numpy.ma.core', 'numpy.ma.extras', 'numpy.testing', 'unittest', 'unittest.result', 'unittest.util', 'unittest.case', 'unittest.suite', 'unittest.loader', 'unittest.main', 'unittest.runner', 'unittest.signals', 'numpy.testing._private', 'numpy.testing._private.utils', 'numpy.testing._private.decorators', 'numpy.testing._private.nosetester', 'ROOT.TGeoManager', 'ROOT.TCollection', 'ROOT.TSeqCollection', 'ROOT.TList', 'ROOT.TIter', 'matplotlib', 'distutils', 'distutils.version', 'matplotlib.cbook', 'gzip', 'matplotlib.cbook.deprecation', 'matplotlib.rcsetup', 'matplotlib.fontconfig_pattern', 'pyparsing', 'matplotlib.colors', 'matplotlib._color_data', 'cycler', 'matplotlib._version', 'kiwisolver']\n"
     ]
    },
    {
     "name": "stderr",
     "output_type": "stream",
     "text": [
      "DEBUG:matplotlib] CACHEDIR=/home/jack/.cache/matplotlib\n",
      "DEBUG:matplotlib.font_manager] Using fontManager instance from /home/jack/.cache/matplotlib/fontlist-v310.json\n",
      "DEBUG:matplotlib.pyplot] Loaded backend module://ipykernel.pylab.backend_inline version unknown.\n",
      "DEBUG:matplotlib.pyplot] Loaded backend module://ipykernel.pylab.backend_inline version unknown.\n"
     ]
    }
   ],
   "source": [
    "# import warnings\n",
    "# warnings.filterwarnings('ignore')\n",
    "import matplotlib.pyplot as plt"
   ]
  },
  {
   "cell_type": "code",
   "execution_count": 4,
   "metadata": {},
   "outputs": [
    {
     "name": "stderr",
     "output_type": "stream",
     "text": [
      "ERROR:ROOT.TInterpreter.AutoParse] Error parsing payload code for class ExRootTreeReader with content:\n",
      "\n",
      "#line 1 \"ExRootAnalysisDict dictionary payload\"\n",
      "\n",
      "\n",
      "#define _BACKWARD_BACKWARD_WARNING_H\n",
      "// Inline headers\n",
      "\n",
      "/** \\class ExRootAnalysisLinkDef\n",
      " *\n",
      " *  Lists classes to be included in cint dicitonary\n",
      " *\n",
      " *  \\author P. Demin - UCL, Louvain-la-Neuve\n",
      " *\n",
      " */\n",
      "\n",
      "#include \"ExRootAnalysis/ExRootTreeReader.h\"\n",
      "#include \"ExRootAnalysis/ExRootTreeWriter.h\"\n",
      "#include \"ExRootAnalysis/ExRootTreeBranch.h\"\n",
      "#include \"ExRootAnalysis/ExRootResult.h\"\n",
      "#include \"ExRootAnalysis/ExRootUtilities.h\"\n",
      "#include \"ExRootAnalysis/ExRootClassifier.h\"\n",
      "#include \"ExRootAnalysis/ExRootFilter.h\"\n",
      "\n",
      "#include \"ExRootAnalysis/ExRootProgressBar.h\"\n",
      "#include \"ExRootAnalysis/ExRootConfReader.h\"\n",
      "#include \"ExRootAnalysis/ExRootTask.h\"\n",
      "\n",
      "#ifdef __CINT__\n",
      "\n",
      "#pragma link off all globals;\n",
      "#pragma link off all classes;\n",
      "#pragma link off all functions;\n",
      "\n",
      "#pragma link C++ class ExRootTreeReader+;\n",
      "#pragma link C++ class ExRootTreeBranch+;\n",
      "#pragma link C++ class ExRootTreeWriter+;\n",
      "#pragma link C++ class ExRootResult+;\n",
      "#pragma link C++ class ExRootClassifier+;\n",
      "#pragma link C++ class ExRootFilter+;\n",
      "\n",
      "#pragma link C++ class ExRootProgressBar+;\n",
      "#pragma link C++ class ExRootConfReader+;\n",
      "#pragma link C++ class ExRootConfParam+;\n",
      "#pragma link C++ class ExRootTask+;\n",
      "\n",
      "#pragma link C++ function HistStyle;\n",
      "#pragma link C++ function FillChain;\n",
      "\n",
      "#endif\n",
      "\n",
      "\n",
      "#undef  _BACKWARD_BACKWARD_WARNING_H\n",
      "\n",
      "Error in cling::AutoloadingVisitor::InsertIntoAutoloadingState:\n",
      "   Missing FileEntry for ExRootAnalysis/ExRootTreeReader.h\n",
      "   requested to autoload type ExRootTreeReader\n",
      "Error in cling::AutoloadingVisitor::InsertIntoAutoloadingState:\n",
      "   Missing FileEntry for ExRootAnalysis/ExRootTreeWriter.h\n",
      "   requested to autoload type ExRootTreeWriter\n",
      "Error in cling::AutoloadingVisitor::InsertIntoAutoloadingState:\n",
      "   Missing FileEntry for ExRootAnalysis/ExRootTreeBranch.h\n",
      "   requested to autoload type ExRootTreeBranch\n",
      "Error in cling::AutoloadingVisitor::InsertIntoAutoloadingState:\n",
      "   Missing FileEntry for ExRootAnalysis/ExRootResult.h\n",
      "   requested to autoload type ExRootResult\n",
      "Error in cling::AutoloadingVisitor::InsertIntoAutoloadingState:\n",
      "   Missing FileEntry for ExRootAnalysis/ExRootClassifier.h\n",
      "   requested to autoload type ExRootClassifier\n",
      "Error in cling::AutoloadingVisitor::InsertIntoAutoloadingState:\n",
      "   Missing FileEntry for ExRootAnalysis/ExRootFilter.h\n",
      "   requested to autoload type ExRootFilter\n",
      "Error in cling::AutoloadingVisitor::InsertIntoAutoloadingState:\n",
      "   Missing FileEntry for ExRootAnalysis/ExRootProgressBar.h\n",
      "   requested to autoload type ExRootProgressBar\n",
      "Error in cling::AutoloadingVisitor::InsertIntoAutoloadingState:\n",
      "   Missing FileEntry for ExRootAnalysis/ExRootConfReader.h\n",
      "   requested to autoload type ExRootConfParam\n",
      "Error in cling::AutoloadingVisitor::InsertIntoAutoloadingState:\n",
      "   Missing FileEntry for ExRootAnalysis/ExRootConfReader.h\n",
      "   requested to autoload type ExRootConfReader\n",
      "Error in cling::AutoloadingVisitor::InsertIntoAutoloadingState:\n",
      "   Missing FileEntry for ExRootAnalysis/ExRootTask.h\n",
      "   requested to autoload type ExRootTask\n",
      "\u001b[1mExRootAnalysisDict dictionary payload:14:10: \u001b[0m\u001b[0;1;31mfatal error: \u001b[0m\u001b[1m'ExRootAnalysis/ExRootTreeReader.h' file not found\u001b[0m\n",
      "#include \"ExRootAnalysis/ExRootTreeReader.h\"\n",
      "\u001b[0;1;32m         ^~~~~~~~~~~~~~~~~~~~~~~~~~~~~~~~~~~\n",
      "\u001b[0m"
     ]
    }
   ],
   "source": [
    "ROOT.gSystem.Load(\"libDelphes\")\n",
    "ROOT.gInterpreter.Declare('#include \"classes/DelphesClasses.h\"')\n",
    "ROOT.gInterpreter.Declare('#include \"external/ExRootAnalysis/ExRootTreeReader.h\"')\n",
    "\n",
    "inputFile = '/home/jack/MG5_aMC_v2_6_6/MSSM_squarkwino/Events/run_01/tag_2_delphes_events.root'\n",
    "chain = ROOT.TChain(\"Delphes\")\n",
    "chain.Add(inputFile)\n",
    "treeReader = ROOT.ExRootTreeReader(chain)\n",
    "numberOfEntries = treeReader.GetEntries()"
   ]
  },
  {
   "cell_type": "code",
   "execution_count": 5,
   "metadata": {},
   "outputs": [
    {
     "data": {
      "text/plain": [
       "True"
      ]
     },
     "execution_count": 5,
     "metadata": {},
     "output_type": "execute_result"
    }
   ],
   "source": [
    "branchParticle = treeReader.UseBranch(\"Particle\")\n",
    "branchFatJet = treeReader.UseBranch(\"FatJet\")\n",
    "branchJet = treeReader.UseBranch(\"Jet\")\n",
    "branchEFlowTrack = treeReader.UseBranch(\"EFlowTrack\")\n",
    "branchEFlowECal = treeReader.UseBranch(\"EFlowPhoton\")\n",
    "branchEFlowHCal = treeReader.UseBranch(\"EFlowNeutralHadron\")\n",
    "\n",
    "branchMuon = treeReader.UseBranch(\"Muon\")\n",
    "branchElectron = treeReader.UseBranch(\"Electron\")\n",
    "\n",
    "treeReader.ReadEntry(0)"
   ]
  },
  {
   "cell_type": "code",
   "execution_count": 6,
   "metadata": {},
   "outputs": [],
   "source": [
    "import pyjet\n",
    "from pyjet import PseudoJet"
   ]
  },
  {
   "cell_type": "code",
   "execution_count": 7,
   "metadata": {
    "scrolled": false
   },
   "outputs": [
    {
     "name": "stderr",
     "output_type": "stream",
     "text": [
      "ERROR:ROOT.TInterpreter.AutoParse] Error parsing payload code for class Electron with content:\n",
      "\n",
      "#line 1 \"ClassesDict dictionary payload\"\n",
      "\n",
      "\n",
      "#define _BACKWARD_BACKWARD_WARNING_H\n",
      "// Inline headers\n",
      "/*\n",
      " *  Delphes: a framework for fast simulation of a generic collider experiment\n",
      " *  Copyright (C) 2012-2014  Universite catholique de Louvain (UCL), Belgium\n",
      " *\n",
      " *  This program is free software: you can redistribute it and/or modify\n",
      " *  it under the terms of the GNU General Public License as published by\n",
      " *  the Free Software Foundation, either version 3 of the License, or\n",
      " *  (at your option) any later version.\n",
      " *\n",
      " *  This program is distributed in the hope that it will be useful,\n",
      " *  but WITHOUT ANY WARRANTY; without even the implied warranty of\n",
      " *  MERCHANTABILITY or FITNESS FOR A PARTICULAR PURPOSE.  See the\n",
      " *  GNU General Public License for more details.\n",
      " *\n",
      " *  You should have received a copy of the GNU General Public License\n",
      " *  along with this program.  If not, see <http://www.gnu.org/licenses/>.\n",
      " */\n",
      "\n",
      "\n",
      "/** ExRootAnalysisLinkDef\n",
      " *\n",
      " *  Lists classes to be included in cint dicitonary\n",
      " *\n",
      " *  \\author P. Demin - UCL, Louvain-la-Neuve\n",
      " *\n",
      " */\n",
      "\n",
      "#include \"classes/DelphesModule.h\"\n",
      "#include \"classes/DelphesFactory.h\"\n",
      "\n",
      "#include \"classes/SortableObject.h\"\n",
      "#include \"classes/DelphesClasses.h\"\n",
      "\n",
      "#ifdef __CINT__\n",
      "\n",
      "#pragma link off all globals;\n",
      "#pragma link off all classes;\n",
      "#pragma link off all functions;\n",
      "\n",
      "#pragma link C++ class DelphesModule+;\n",
      "#pragma link C++ class DelphesFactory+;\n",
      "\n",
      "#pragma link C++ class SortableObject+;\n",
      "\n",
      "#pragma link C++ class Event+;\n",
      "#pragma link C++ class LHCOEvent+;\n",
      "#pragma link C++ class LHEFEvent+;\n",
      "#pragma link C++ class LHEFWeight+;\n",
      "#pragma link C++ class HepMCEvent+;\n",
      "#pragma link C++ class GenParticle+;\n",
      "#pragma link C++ class Vertex+;\n",
      "#pragma link C++ class MissingET+;\n",
      "#pragma link C++ class ScalarHT+;\n",
      "#pragma link C++ class Rho+;\n",
      "#pragma link C++ class Weight+;\n",
      "#pragma link C++ class Photon+;\n",
      "#pragma link C++ class Electron+;\n",
      "#pragma link C++ class Muon+;\n",
      "#pragma link C++ class Jet+;\n",
      "#pragma link C++ class Track+;\n",
      "#pragma link C++ class Tower+;\n",
      "#pragma link C++ class HectorHit+;\n",
      "\n",
      "#pragma link C++ class Candidate+;\n",
      "\n",
      "#endif\n",
      "\n",
      "\n",
      "#undef  _BACKWARD_BACKWARD_WARNING_H\n",
      "\n",
      "ERROR:ROOT.TInterpreter.AutoParse] Error parsing payload code for class SortableObject with content:\n",
      "\n",
      "#line 1 \"ClassesDict dictionary payload\"\n",
      "\n",
      "\n",
      "#define _BACKWARD_BACKWARD_WARNING_H\n",
      "// Inline headers\n",
      "/*\n",
      " *  Delphes: a framework for fast simulation of a generic collider experiment\n",
      " *  Copyright (C) 2012-2014  Universite catholique de Louvain (UCL), Belgium\n",
      " *\n",
      " *  This program is free software: you can redistribute it and/or modify\n",
      " *  it under the terms of the GNU General Public License as published by\n",
      " *  the Free Software Foundation, either version 3 of the License, or\n",
      " *  (at your option) any later version.\n",
      " *\n",
      " *  This program is distributed in the hope that it will be useful,\n",
      " *  but WITHOUT ANY WARRANTY; without even the implied warranty of\n",
      " *  MERCHANTABILITY or FITNESS FOR A PARTICULAR PURPOSE.  See the\n",
      " *  GNU General Public License for more details.\n",
      " *\n",
      " *  You should have received a copy of the GNU General Public License\n",
      " *  along with this program.  If not, see <http://www.gnu.org/licenses/>.\n",
      " */\n",
      "\n",
      "\n",
      "/** ExRootAnalysisLinkDef\n",
      " *\n",
      " *  Lists classes to be included in cint dicitonary\n",
      " *\n",
      " *  \\author P. Demin - UCL, Louvain-la-Neuve\n",
      " *\n",
      " */\n",
      "\n",
      "#include \"classes/DelphesModule.h\"\n",
      "#include \"classes/DelphesFactory.h\"\n",
      "\n",
      "#include \"classes/SortableObject.h\"\n",
      "#include \"classes/DelphesClasses.h\"\n",
      "\n",
      "#ifdef __CINT__\n",
      "\n",
      "#pragma link off all globals;\n",
      "#pragma link off all classes;\n",
      "#pragma link off all functions;\n",
      "\n",
      "#pragma link C++ class DelphesModule+;\n",
      "#pragma link C++ class DelphesFactory+;\n",
      "\n",
      "#pragma link C++ class SortableObject+;\n",
      "\n",
      "#pragma link C++ class Event+;\n",
      "#pragma link C++ class LHCOEvent+;\n",
      "#pragma link C++ class LHEFEvent+;\n",
      "#pragma link C++ class LHEFWeight+;\n",
      "#pragma link C++ class HepMCEvent+;\n",
      "#pragma link C++ class GenParticle+;\n",
      "#pragma link C++ class Vertex+;\n",
      "#pragma link C++ class MissingET+;\n",
      "#pragma link C++ class ScalarHT+;\n",
      "#pragma link C++ class Rho+;\n",
      "#pragma link C++ class Weight+;\n",
      "#pragma link C++ class Photon+;\n",
      "#pragma link C++ class Electron+;\n",
      "#pragma link C++ class Muon+;\n",
      "#pragma link C++ class Jet+;\n",
      "#pragma link C++ class Track+;\n",
      "#pragma link C++ class Tower+;\n",
      "#pragma link C++ class HectorHit+;\n",
      "\n",
      "#pragma link C++ class Candidate+;\n",
      "\n",
      "#endif\n",
      "\n",
      "\n",
      "#undef  _BACKWARD_BACKWARD_WARNING_H\n",
      "\n",
      "ERROR:ROOT.TInterpreter.AutoParse] Error parsing payload code for class Muon with content:\n",
      "\n",
      "#line 1 \"ClassesDict dictionary payload\"\n",
      "\n",
      "\n",
      "#define _BACKWARD_BACKWARD_WARNING_H\n",
      "// Inline headers\n",
      "/*\n",
      " *  Delphes: a framework for fast simulation of a generic collider experiment\n",
      " *  Copyright (C) 2012-2014  Universite catholique de Louvain (UCL), Belgium\n",
      " *\n",
      " *  This program is free software: you can redistribute it and/or modify\n",
      " *  it under the terms of the GNU General Public License as published by\n",
      " *  the Free Software Foundation, either version 3 of the License, or\n",
      " *  (at your option) any later version.\n",
      " *\n",
      " *  This program is distributed in the hope that it will be useful,\n",
      " *  but WITHOUT ANY WARRANTY; without even the implied warranty of\n",
      " *  MERCHANTABILITY or FITNESS FOR A PARTICULAR PURPOSE.  See the\n",
      " *  GNU General Public License for more details.\n",
      " *\n",
      " *  You should have received a copy of the GNU General Public License\n",
      " *  along with this program.  If not, see <http://www.gnu.org/licenses/>.\n",
      " */\n",
      "\n",
      "\n",
      "/** ExRootAnalysisLinkDef\n",
      " *\n",
      " *  Lists classes to be included in cint dicitonary\n",
      " *\n",
      " *  \\author P. Demin - UCL, Louvain-la-Neuve\n",
      " *\n",
      " */\n",
      "\n",
      "#include \"classes/DelphesModule.h\"\n",
      "#include \"classes/DelphesFactory.h\"\n",
      "\n",
      "#include \"classes/SortableObject.h\"\n",
      "#include \"classes/DelphesClasses.h\"\n",
      "\n",
      "#ifdef __CINT__\n",
      "\n",
      "#pragma link off all globals;\n",
      "#pragma link off all classes;\n",
      "#pragma link off all functions;\n",
      "\n",
      "#pragma link C++ class DelphesModule+;\n",
      "#pragma link C++ class DelphesFactory+;\n",
      "\n",
      "#pragma link C++ class SortableObject+;\n",
      "\n",
      "#pragma link C++ class Event+;\n",
      "#pragma link C++ class LHCOEvent+;\n",
      "#pragma link C++ class LHEFEvent+;\n",
      "#pragma link C++ class LHEFWeight+;\n",
      "#pragma link C++ class HepMCEvent+;\n",
      "#pragma link C++ class GenParticle+;\n",
      "#pragma link C++ class Vertex+;\n",
      "#pragma link C++ class MissingET+;\n",
      "#pragma link C++ class ScalarHT+;\n",
      "#pragma link C++ class Rho+;\n",
      "#pragma link C++ class Weight+;\n",
      "#pragma link C++ class Photon+;\n",
      "#pragma link C++ class Electron+;\n",
      "#pragma link C++ class Muon+;\n",
      "#pragma link C++ class Jet+;\n",
      "#pragma link C++ class Track+;\n",
      "#pragma link C++ class Tower+;\n",
      "#pragma link C++ class HectorHit+;\n",
      "\n",
      "#pragma link C++ class Candidate+;\n",
      "\n",
      "#endif\n",
      "\n",
      "\n",
      "#undef  _BACKWARD_BACKWARD_WARNING_H\n",
      "\n"
     ]
    },
    {
     "name": "stdout",
     "output_type": "stream",
     "text": [
      "0.3049\n",
      "0.2748\n"
     ]
    },
    {
     "name": "stderr",
     "output_type": "stream",
     "text": [
      "In file included from ClassesDict dictionary payload:32:\n",
      "\u001b[1m/home/jack/MG5_aMC_v2_6_6/Delphes/classes/DelphesModule.h:30:10: \u001b[0m\u001b[0;1;31mfatal error: \u001b[0m\u001b[1m'ExRootAnalysis/ExRootTask.h' file not found\u001b[0m\n",
      "#include \"ExRootAnalysis/ExRootTask.h\"\n",
      "\u001b[0;1;32m         ^~~~~~~~~~~~~~~~~~~~~~~~~~~~~\n",
      "\u001b[0mIn file included from ClassesDict dictionary payload:32:\n",
      "\u001b[1m/home/jack/MG5_aMC_v2_6_6/Delphes/classes/DelphesModule.h:30:10: \u001b[0m\u001b[0;1;31mfatal error: \u001b[0m\u001b[1m'ExRootAnalysis/ExRootTask.h' file not found\u001b[0m\n",
      "#include \"ExRootAnalysis/ExRootTask.h\"\n",
      "\u001b[0;1;32m         ^~~~~~~~~~~~~~~~~~~~~~~~~~~~~\n",
      "\u001b[0mIn file included from ClassesDict dictionary payload:32:\n",
      "\u001b[1m/home/jack/MG5_aMC_v2_6_6/Delphes/classes/DelphesModule.h:30:10: \u001b[0m\u001b[0;1;31mfatal error: \u001b[0m\u001b[1m'ExRootAnalysis/ExRootTask.h' file not found\u001b[0m\n",
      "#include \"ExRootAnalysis/ExRootTask.h\"\n",
      "\u001b[0;1;32m         ^~~~~~~~~~~~~~~~~~~~~~~~~~~~~\n",
      "\u001b[0m"
     ]
    }
   ],
   "source": [
    "num_with_lepton = 0\n",
    "numevents = 10000\n",
    "num_with_lepton_cut1 = 0\n",
    "\n",
    "max_lepton_pt = []\n",
    "\n",
    "numjets_list = []\n",
    "\n",
    "for event_i in range(numevents):\n",
    "    treeReader.ReadEntry(event_i)\n",
    "    if branchElectron.GetEntriesFast() + branchMuon.GetEntriesFast() > 0:\n",
    "        num_with_lepton += 1\n",
    "        \n",
    "        lepton_pts = []\n",
    "        for j in range(branchElectron.GetEntriesFast()):\n",
    "            lepton_pts.append(branchElectron.At(j).PT)\n",
    "        for j in range(branchMuon.GetEntriesFast()):\n",
    "            lepton_pts.append(branchMuon.At(j).PT)\n",
    "\n",
    "        max_lepton_pt.append(np.max(lepton_pts))\n",
    "        if np.max(lepton_pts) > 25:\n",
    "            num_with_lepton_cut1 += 1\n",
    "            \n",
    "        numjets_list.append(branchJet.GetEntriesFast())\n",
    "print(1.*num_with_lepton/numevents)\n",
    "print(1.*num_with_lepton_cut1/numevents)"
   ]
  },
  {
   "cell_type": "code",
   "execution_count": 8,
   "metadata": {
    "scrolled": false
   },
   "outputs": [
    {
     "name": "stderr",
     "output_type": "stream",
     "text": [
      "DEBUG:matplotlib.font_manager] findfont: Matching :family=sans-serif:style=normal:variant=normal:weight=normal:stretch=normal:size=10.0.\n",
      "DEBUG:matplotlib.font_manager] findfont: score(<Font 'STIXGeneral' (STIXGeneralBol.ttf) normal normal bold normal>) = 10.335\n",
      "DEBUG:matplotlib.font_manager] findfont: score(<Font 'DejaVu Sans Mono' (DejaVuSansMono-Bold.ttf) normal normal bold normal>) = 10.335\n",
      "DEBUG:matplotlib.font_manager] findfont: score(<Font 'STIXNonUnicode' (STIXNonUni.ttf) normal normal regular normal>) = 10.05\n",
      "DEBUG:matplotlib.font_manager] findfont: score(<Font 'cmr10' (cmr10.ttf) normal normal 400 normal>) = 10.05\n",
      "DEBUG:matplotlib.font_manager] findfont: score(<Font 'DejaVu Serif' (DejaVuSerif.ttf) normal normal 400 normal>) = 10.05\n",
      "DEBUG:matplotlib.font_manager] findfont: score(<Font 'cmmi10' (cmmi10.ttf) normal normal 400 normal>) = 10.05\n",
      "DEBUG:matplotlib.font_manager] findfont: score(<Font 'DejaVu Sans' (DejaVuSans-BoldOblique.ttf) oblique normal bold normal>) = 1.335\n",
      "DEBUG:matplotlib.font_manager] findfont: score(<Font 'DejaVu Sans Mono' (DejaVuSansMono.ttf) normal normal 400 normal>) = 10.05\n",
      "DEBUG:matplotlib.font_manager] findfont: score(<Font 'DejaVu Sans' (DejaVuSans.ttf) normal normal 400 normal>) = 0.05\n",
      "DEBUG:matplotlib.font_manager] findfont: score(<Font 'STIXNonUnicode' (STIXNonUniBol.ttf) normal normal bold normal>) = 10.335\n",
      "DEBUG:matplotlib.font_manager] findfont: score(<Font 'cmsy10' (cmsy10.ttf) normal normal 400 normal>) = 10.05\n",
      "DEBUG:matplotlib.font_manager] findfont: score(<Font 'STIXSizeFourSym' (STIXSizFourSymReg.ttf) normal normal regular normal>) = 10.05\n",
      "DEBUG:matplotlib.font_manager] findfont: score(<Font 'STIXSizeFiveSym' (STIXSizFiveSymReg.ttf) normal normal regular normal>) = 10.05\n",
      "DEBUG:matplotlib.font_manager] findfont: score(<Font 'STIXSizeThreeSym' (STIXSizThreeSymReg.ttf) normal normal regular normal>) = 10.05\n",
      "DEBUG:matplotlib.font_manager] findfont: score(<Font 'STIXGeneral' (STIXGeneral.ttf) normal normal regular normal>) = 10.05\n",
      "DEBUG:matplotlib.font_manager] findfont: score(<Font 'DejaVu Serif' (DejaVuSerif-Bold.ttf) normal normal bold normal>) = 10.335\n",
      "DEBUG:matplotlib.font_manager] findfont: score(<Font 'DejaVu Serif Display' (DejaVuSerifDisplay.ttf) normal normal 400 normal>) = 10.05\n",
      "DEBUG:matplotlib.font_manager] findfont: score(<Font 'STIXSizeTwoSym' (STIXSizTwoSymBol.ttf) normal normal bold normal>) = 10.335\n",
      "DEBUG:matplotlib.font_manager] findfont: score(<Font 'STIXNonUnicode' (STIXNonUniIta.ttf) italic normal 400 normal>) = 11.05\n",
      "DEBUG:matplotlib.font_manager] findfont: score(<Font 'STIXGeneral' (STIXGeneralBolIta.ttf) italic normal bold normal>) = 11.335\n",
      "DEBUG:matplotlib.font_manager] findfont: score(<Font 'cmss10' (cmss10.ttf) normal normal 400 normal>) = 10.05\n",
      "DEBUG:matplotlib.font_manager] findfont: score(<Font 'DejaVu Sans Mono' (DejaVuSansMono-Oblique.ttf) oblique normal 400 normal>) = 11.05\n",
      "DEBUG:matplotlib.font_manager] findfont: score(<Font 'cmb10' (cmb10.ttf) normal normal 400 normal>) = 10.05\n",
      "DEBUG:matplotlib.font_manager] findfont: score(<Font 'DejaVu Sans Mono' (DejaVuSansMono-BoldOblique.ttf) oblique normal bold normal>) = 11.335\n",
      "DEBUG:matplotlib.font_manager] findfont: score(<Font 'STIXGeneral' (STIXGeneralItalic.ttf) italic normal 400 normal>) = 11.05\n",
      "DEBUG:matplotlib.font_manager] findfont: score(<Font 'STIXSizeThreeSym' (STIXSizThreeSymBol.ttf) normal normal bold normal>) = 10.335\n",
      "DEBUG:matplotlib.font_manager] findfont: score(<Font 'STIXSizeTwoSym' (STIXSizTwoSymReg.ttf) normal normal regular normal>) = 10.05\n",
      "DEBUG:matplotlib.font_manager] findfont: score(<Font 'cmex10' (cmex10.ttf) normal normal 400 normal>) = 10.05\n",
      "DEBUG:matplotlib.font_manager] findfont: score(<Font 'DejaVu Sans' (DejaVuSans-Oblique.ttf) oblique normal 400 normal>) = 1.05\n",
      "DEBUG:matplotlib.font_manager] findfont: score(<Font 'STIXNonUnicode' (STIXNonUniBolIta.ttf) italic normal bold normal>) = 11.335\n",
      "DEBUG:matplotlib.font_manager] findfont: score(<Font 'STIXSizeOneSym' (STIXSizOneSymBol.ttf) normal normal bold normal>) = 10.335\n",
      "DEBUG:matplotlib.font_manager] findfont: score(<Font 'STIXSizeOneSym' (STIXSizOneSymReg.ttf) normal normal regular normal>) = 10.05\n",
      "DEBUG:matplotlib.font_manager] findfont: score(<Font 'STIXSizeFourSym' (STIXSizFourSymBol.ttf) normal normal bold normal>) = 10.335\n",
      "DEBUG:matplotlib.font_manager] findfont: score(<Font 'DejaVu Serif' (DejaVuSerif-Italic.ttf) italic normal 400 normal>) = 11.05\n",
      "DEBUG:matplotlib.font_manager] findfont: score(<Font 'DejaVu Sans' (DejaVuSans-Bold.ttf) normal normal bold normal>) = 0.33499999999999996\n",
      "DEBUG:matplotlib.font_manager] findfont: score(<Font 'DejaVu Serif' (DejaVuSerif-BoldItalic.ttf) italic normal bold normal>) = 11.335\n",
      "DEBUG:matplotlib.font_manager] findfont: score(<Font 'cmtt10' (cmtt10.ttf) normal normal 400 normal>) = 10.05\n",
      "DEBUG:matplotlib.font_manager] findfont: score(<Font 'DejaVu Sans Display' (DejaVuSansDisplay.ttf) normal normal 400 normal>) = 10.05\n",
      "DEBUG:matplotlib.font_manager] findfont: score(<Font 'Noto Mono' (NotoMono-Regular.ttf) normal normal 400 normal>) = 10.05\n",
      "DEBUG:matplotlib.font_manager] findfont: score(<Font 'Droid Sans Fallback' (DroidSansFallbackFull.ttf) normal normal 400 normal>) = 10.05\n",
      "DEBUG:matplotlib.font_manager] findfont: Matching :family=sans-serif:style=normal:variant=normal:weight=normal:stretch=normal:size=10.0 to DejaVu Sans ('/home/jack/.virtualenvs/BNN_env_python3.6/lib/python3.6/site-packages/matplotlib/mpl-data/fonts/ttf/DejaVuSans.ttf') with score of 0.050000.\n"
     ]
    },
    {
     "data": {
      "image/png": "[encoded data removed]",
      "text/plain": [
       "<Figure size 432x288 with 1 Axes>"
      ]
     },
     "metadata": {
      "needs_background": "light"
     },
     "output_type": "display_data"
    }
   ],
   "source": [
    "plt.hist(numjets_list,bins=40)\n",
    "#plt.semilogy(nonposy=\"clip\")\n",
    "plt.show()"
   ]
  },
  {
   "cell_type": "code",
   "execution_count": 25,
   "metadata": {},
   "outputs": [
    {
     "data": {
      "text/plain": [
       "<ROOT.TClonesArray object (\"Electron\") at 0x7d46330>"
      ]
     },
     "execution_count": 25,
     "metadata": {},
     "output_type": "execute_result"
    }
   ],
   "source": [
    "branchElectron"
   ]
  },
  {
   "cell_type": "code",
   "execution_count": 40,
   "metadata": {},
   "outputs": [
    {
     "data": {
      "text/plain": [
       "array([1000022, 1000023, 1000024, 1000025, 1000026, 1000027, 1000028,\n",
       "       1000029, 1000030, 1000031, 1000032, 1000033, 1000034, 1000035,\n",
       "       1000036, 1000037, 1000038, 1000039, 1000040, 1000041, 1000042,\n",
       "       1000043, 1000044, 1000045, 1000046, 1000047, 1000048, 1000049,\n",
       "       1000050, 1000051, 1000052, 1000053, 1000054, 1000055, 1000056,\n",
       "       1000057, 1000058, 1000059, 1000060, 1000061, 1000062, 1000063,\n",
       "       1000064, 1000065, 1000066, 1000067, 1000068, 1000069, 1000070,\n",
       "       1000071, 1000072, 1000073, 1000074, 1000075, 1000076, 1000077,\n",
       "       1000078, 1000079, 1000080, 1000081, 1000082, 1000083, 1000084,\n",
       "       1000085, 1000086, 1000087, 1000088, 1000089, 1000090, 1000091,\n",
       "       1000092, 1000093, 1000094, 1000095, 1000096, 1000097, 1000098,\n",
       "       1000099])"
      ]
     },
     "execution_count": 40,
     "metadata": {},
     "output_type": "execute_result"
    }
   ],
   "source": [
    "np.arange(1000022,1000100)"
   ]
  },
  {
   "cell_type": "code",
   "execution_count": 26,
   "metadata": {
    "collapsed": true
   },
   "outputs": [
    {
     "name": "stdout",
     "output_type": "stream",
     "text": [
      "0 21 21 3\n",
      "1 21 43 15\n",
      "2 2 21 3\n",
      "3 1000001 22 8\n",
      "4 1000037 22 9\n",
      "5 21 41 0\n",
      "6 21 43 22\n",
      "7 2 42 2\n",
      "8 1000001 44 13\n",
      "9 1000037 44 14\n",
      "10 21 41 5\n",
      "11 2 42 7\n",
      "12 21 43 53\n",
      "13 1000001 44 19\n",
      "14 1000037 44 20\n",
      "15 21 44 21\n",
      "16 21 42 10\n",
      "17 2 41 11\n",
      "18 21 43 69\n",
      "19 1000001 44 49\n",
      "20 1000037 44 50\n",
      "21 21 44 51\n",
      "22 21 44 52\n",
      "23 -3 31 26\n",
      "24 21 43 38\n",
      "25 21 31 26\n",
      "26 -3 33 31\n",
      "27 21 33 32\n",
      "28 -3 41 23\n",
      "29 3 43 45\n",
      "30 21 42 25\n",
      "31 -3 44 36\n",
      "32 21 44 37\n",
      "33 21 41 28\n",
      "34 21 42 30\n",
      "35 1 43 60\n",
      "36 -3 44 42\n",
      "37 21 44 43\n",
      "38 21 44 44\n",
      "39 21 42 33\n",
      "40 -2 43 133\n",
      "41 1 41 34\n",
      "42 -3 44 56\n",
      "43 21 44 57\n",
      "44 21 44 58\n",
      "45 3 44 59\n",
      "46 21 42 16\n",
      "47 2 43 96\n",
      "48 2 41 17\n",
      "49 1000001 44 64\n",
      "50 1000037 44 65\n",
      "51 21 44 66\n",
      "52 21 44 67\n",
      "53 21 44 68\n",
      "54 -2 41 39\n",
      "55 1 42 41\n",
      "56 -3 44 128\n",
      "57 21 44 129\n",
      "58 21 44 130\n",
      "59 3 44 131\n",
      "60 1 44 132\n",
      "61 2 41 46\n",
      "62 2 42 48\n",
      "63 21 43 127\n",
      "64 1000001 44 90\n",
      "65 1000037 44 91\n",
      "66 21 44 92\n",
      "67 21 44 93\n",
      "68 21 44 94\n",
      "69 21 44 95\n",
      "70 1 31 73\n",
      "71 21 31 73\n",
      "72 21 43 136\n",
      "73 1 33 81\n",
      "74 21 33 82\n",
      "75 -3 31 77\n",
      "76 21 31 77\n",
      "77 -3 33 137\n",
      "78 21 33 138\n",
      "79 1 42 70\n",
      "80 21 41 71\n",
      "81 1 44 134\n",
      "82 21 44 135\n",
      "83 21 31 86\n",
      "84 21 43 141\n",
      "85 2 31 86\n",
      "86 21 33 99\n",
      "87 2 33 100\n",
      "88 2 42 61\n",
      "89 2 41 62\n",
      "90 1000001 44 120\n",
      "91 1000037 44 121\n",
      "92 21 44 122\n",
      "93 21 44 123\n",
      "94 21 44 124\n",
      "95 21 44 125\n",
      "96 2 44 126\n",
      "97 21 41 83\n",
      "98 2 42 85\n",
      "99 21 44 139\n"
     ]
    }
   ],
   "source": [
    "for i in range(100):\n",
    "    print(i,branchParticle.At(i).PID,branchParticle.At(i).Status,branchParticle.At(i).D1)"
   ]
  },
  {
   "cell_type": "code",
   "execution_count": 48,
   "metadata": {},
   "outputs": [],
   "source": [
    "quarks = np.array([-6,-5,-4,-3,-2,-1,1,2,3,4,5,6])\n",
    "inos = np.append(np.arange(1000022,1000100),np.arange(-1000100,-1000022))\n",
    "\n",
    "def get_truth_particles():\n",
    "\n",
    "    boosted_wino=0\n",
    "    quark=0\n",
    "    current_particle = branchParticle.At(3)\n",
    "    associated_wino = branchParticle.At(4)\n",
    "    while boosted_wino == 0:\n",
    "        \n",
    "#         if current_particle.D1 is -1:\n",
    "#             boosted_wino = current_particle\n",
    "        \n",
    "        D1 = branchParticle.At(current_particle.D1)\n",
    "        D2 = branchParticle.At(current_particle.D2)\n",
    "\n",
    "        if np.any(D1.PID == quarks) and np.any(D2.PID == inos):\n",
    "            quark = D1\n",
    "            boosted_wino = D2\n",
    "        elif np.any(D2.PID == quarks) and np.any(D1.PID == inos):\n",
    "            quark = D2\n",
    "            boosted_wino = D1\n",
    "        elif np.any(D1.PID == quarks) or np.any(D2.PID == quarks) or np.any(D1.PID == inos) or np.any(D2.PID == inos):\n",
    "            raise\n",
    "        else:\n",
    "            current_particle = D1\n",
    "    \n",
    "    return quark, boosted_wino, associated_wino"
   ]
  },
  {
   "cell_type": "code",
   "execution_count": null,
   "metadata": {},
   "outputs": [],
   "source": []
  },
  {
   "cell_type": "code",
   "execution_count": 50,
   "metadata": {},
   "outputs": [
    {
     "name": "stdout",
     "output_type": "stream",
     "text": [
      "0 1 1000035 1000037\n",
      "1 2 1000035 -1000037\n",
      "2 1 1000035 1000037\n",
      "3 2 -1000037 1000037\n",
      "4 2 -1000037 1000037\n",
      "5 1 1000035 1000037\n",
      "6 1 1000037 -1000037\n",
      "7 1 1000024 1000035\n",
      "8 2 -1000037 1000037\n",
      "9 2 1000035 1000035\n",
      "10 1 1000024 -1000037\n",
      "11 2 -1000037 1000037\n",
      "Fail\n",
      "13 2 1000035 -1000037\n",
      "14 2 -1000037 1000037\n",
      "Fail\n",
      "16 2 -1000024 1000037\n",
      "17 1 1000023 1000037\n",
      "18 2 -1000037 1000037\n",
      "19 1 1000037 -1000037\n",
      "20 2 -1000037 1000037\n",
      "21 1 1000037 1000035\n",
      "22 1 1000024 1000035\n",
      "Fail\n",
      "24 1 1000023 1000037\n",
      "25 2 -1000037 1000037\n",
      "26 1 1000037 1000035\n",
      "27 2 -1000024 1000037\n",
      "28 1 1000024 1000035\n",
      "29 1 1000035 1000035\n",
      "30 2 -1000037 1000037\n",
      "31 1 1000035 1000037\n",
      "Fail\n",
      "33 1 1000037 -1000037\n",
      "34 1 1000022 1000037\n",
      "35 2 1000023 1000035\n",
      "36 2 1000035 -1000037\n",
      "37 1 1000023 -1000037\n",
      "38 1 1000035 1000037\n",
      "39 2 -1000037 1000037\n",
      "40 1 1000025 1000037\n",
      "41 2 -1000037 1000035\n",
      "42 2 -1000037 1000037\n",
      "43 2 -1000037 1000037\n",
      "44 2 -1000037 1000037\n",
      "45 1 1000024 1000035\n",
      "Fail\n",
      "Fail\n",
      "48 2 -1000024 1000037\n",
      "49 1 1000023 1000037\n"
     ]
    }
   ],
   "source": [
    "for event_i in range(50):\n",
    "    treeReader.ReadEntry(event_i)\n",
    "    try:\n",
    "        quark, boosted_wino, associated_wino = get_truth_particles()\n",
    "    except:\n",
    "        #print(\"Fail\")\n",
    "        continue\n",
    "    #print(event_i, quark.PID, boosted_wino.PID, associated_wino.PID)\n",
    "    fat_jet"
   ]
  },
  {
   "cell_type": "code",
   "execution_count": null,
   "metadata": {},
   "outputs": [],
   "source": [
    "for event_i in range(10):\n",
    "    treeReader.ReadEntry(event_i)\n",
    "    quark, boosted_wino, associated_wino = get_truth_particles()\n",
    "    if abs(boosted_wino.PID ) < 1000003:\n",
    "        continue\n",
    "    "
   ]
  },
  {
   "cell_type": "code",
   "execution_count": 7,
   "metadata": {},
   "outputs": [
    {
     "name": "stdout",
     "output_type": "stream",
     "text": [
      "114 21 61 80 80\n",
      "134 1 62 310 310 81 -1\n",
      "136 21 62 429 429 72 -1\n"
     ]
    }
   ],
   "source": [
    "num=114\n",
    "particle=branchParticle.At(num)\n",
    "print(num,particle.PID,particle.Status,particle.D1,particle.D2)\n",
    "\n",
    "num=134\n",
    "particle=branchParticle.At(num)\n",
    "print(num,particle.PID,particle.Status,particle.D1,particle.D2,particle.M1,particle.M2)\n",
    "\n",
    "num=136\n",
    "particle=branchParticle.At(num)\n",
    "print(num,particle.PID,particle.Status,particle.D1,particle.D2,particle.M1,particle.M2)"
   ]
  },
  {
   "cell_type": "code",
   "execution_count": 8,
   "metadata": {},
   "outputs": [
    {
     "data": {
      "text/plain": [
       "(<ROOT.GenParticle object (\"GenParticle\") at 0x78a2640>,\n",
       " <ROOT.GenParticle object (\"GenParticle\") at 0x78a26c0>,\n",
       " <ROOT.GenParticle object (\"GenParticle\") at 0x783add0>)"
      ]
     },
     "execution_count": 8,
     "metadata": {},
     "output_type": "execute_result"
    }
   ],
   "source": [
    "get_truth_particles()"
   ]
  },
  {
   "cell_type": "code",
   "execution_count": 9,
   "metadata": {},
   "outputs": [],
   "source": [
    "def get_decay_products(particle):\n",
    "    intermediate_particle = particle\n",
    "    daughter1 = 0\n",
    "    daughter2 = 0\n",
    "    while daughter1 == 0:\n",
    "        D1 = branchParticle.At(intermediate_particle.D1)\n",
    "        D2 = branchParticle.At(intermediate_particle.D2)\n",
    "        if D1.PID != particle.PID:\n",
    "            daughter1 = D1\n",
    "            daughter2 = D2\n",
    "        else:\n",
    "            intermediate_particle = D1\n",
    "            \n",
    "    return daughter1, daughter2"
   ]
  },
  {
   "cell_type": "code",
   "execution_count": 10,
   "metadata": {},
   "outputs": [
    {
     "ename": "NameError",
     "evalue": "name 'boosted_wino' is not defined",
     "output_type": "error",
     "traceback": [
      "\u001b[0;31m---------------------------------------------------------------------------\u001b[0m",
      "\u001b[0;31mNameError\u001b[0m                                 Traceback (most recent call last)",
      "\u001b[0;32m<ipython-input-10-0ca63e33331f>\u001b[0m in \u001b[0;36m<module>\u001b[0;34m\u001b[0m\n\u001b[0;32m----> 1\u001b[0;31m \u001b[0mprint\u001b[0m\u001b[0;34m(\u001b[0m\u001b[0mboosted_wino\u001b[0m\u001b[0;34m.\u001b[0m\u001b[0mPID\u001b[0m\u001b[0;34m,\u001b[0m\u001b[0mget_decay_products\u001b[0m\u001b[0;34m(\u001b[0m\u001b[0mboosted_wino\u001b[0m\u001b[0;34m)\u001b[0m\u001b[0;34m[\u001b[0m\u001b[0;36m1\u001b[0m\u001b[0;34m]\u001b[0m\u001b[0;34m.\u001b[0m\u001b[0mPID\u001b[0m\u001b[0;34m)\u001b[0m\u001b[0;34m\u001b[0m\u001b[0;34m\u001b[0m\u001b[0m\n\u001b[0m\u001b[1;32m      2\u001b[0m \u001b[0mprint\u001b[0m\u001b[0;34m(\u001b[0m\u001b[0mquark\u001b[0m\u001b[0;34m.\u001b[0m\u001b[0mPID\u001b[0m\u001b[0;34m)\u001b[0m\u001b[0;34m\u001b[0m\u001b[0;34m\u001b[0m\u001b[0m\n",
      "\u001b[0;31mNameError\u001b[0m: name 'boosted_wino' is not defined"
     ]
    }
   ],
   "source": [
    "print(boosted_wino.PID,get_decay_products(boosted_wino)[1].PID)\n",
    "print(quark.PID)"
   ]
  },
  {
   "cell_type": "code",
   "execution_count": 12,
   "metadata": {
    "scrolled": true
   },
   "outputs": [
    {
     "name": "stdout",
     "output_type": "stream",
     "text": [
      "-1000037 1000023 25 5\n",
      "\n",
      "[953.5048828125, 0.6653400659561157, -1.1999534368515015]\n",
      "[908.2021484375, 0.12543223798274994, 2.030181407928467]\n",
      "[28.65389060974121, -3.744586944580078, 2.371053457260132]\n",
      "[154.25607299804688, 0.40507790446281433, 1.8198422193527222]\n",
      "\n",
      "[994.3931274414062, 0.6653821468353271, -1.200933575630188, 40.83562088012695]\n",
      "[383.55877685546875, 0.23743833601474762, 2.0928499698638916, 83.9532241821289]\n",
      "[243.88539123535156, 0.7949074506759644, 0.670301616191864, 13.546610832214355]\n",
      "\n",
      "[993.875732421875, 0.6672181487083435, -1.2009010314941406, 52.64080047607422]\n",
      "[381.3548278808594, 0.23651672899723053, 2.0923707485198975, 84.54051971435547]\n",
      "[247.5849151611328, 0.7809435129165649, 0.6741958856582642, 32.15314483642578]\n",
      "\n",
      "[885.8527277438075, 0.664341431762317, -1.2077308816446612, 1.9623269304272781]\n",
      "[380.534188966639, 0.237438337049505, 2.092849897550019, 83.29120367709466]\n",
      "[213.80294775231667, 0.7999732706074062, 0.6684459196812887, 0.6962205874926818]\n",
      "\n",
      "[974.736244747674, 0.6649062924734537, -1.2055387793042123, 19.520916936331226]\n",
      "[376.4164166661804, 0.23696454001812697, 2.090681948747242, 82.23352427129454]\n",
      "[236.74672899514755, 0.7987732046487839, 0.6672057501518663, 6.614798496550707]\n"
     ]
    }
   ],
   "source": [
    "treeReader.ReadEntry(1392)\n",
    "quark, boosted_wino, associated_wino = get_truth_particles()\n",
    "p2 = get_decay_products(boosted_wino)[1]\n",
    "p3 = get_decay_products(p2)[0]\n",
    "print(boosted_wino.PID,get_decay_products(boosted_wino)[1].PID,get_decay_products(p2)[0].PID,get_decay_products(p3)[0].PID)\n",
    "print()\n",
    "print([quark.PT,quark.Eta,quark.Phi])\n",
    "print([boosted_wino.PT,boosted_wino.Eta,boosted_wino.Phi])\n",
    "print([associated_wino.PT,associated_wino.Eta,associated_wino.Phi])\n",
    "print([p3.PT,p3.Eta,p3.Phi])\n",
    "print()\n",
    "\n",
    "for i in range(min(3,branchJet.GetEntriesFast())):\n",
    "    print([branchJet.At(i).PT,branchJet.At(i).Eta,branchJet.At(i).Phi,branchJet.At(i).Mass])\n",
    "print()\n",
    "for i in range(min(branchFatJet.GetEntriesFast(),3)):\n",
    "    print([branchFatJet.At(i).PT,branchFatJet.At(i).Eta,branchFatJet.At(i).Phi,branchFatJet.At(i).Mass])\n",
    "print()\n",
    "for i in range(min(branchFatJet.GetEntriesFast(),3)):\n",
    "    print([branchFatJet.At(i).SoftDroppedP4.Pt(),\n",
    "           branchFatJet.At(i).SoftDroppedP4.Eta(),\n",
    "           branchFatJet.At(i).SoftDroppedP4.Phi(),\n",
    "           branchFatJet.At(i).SoftDroppedP4.M()])\n",
    "\n",
    "print()\n",
    "for i in range(min(branchFatJet.GetEntriesFast(),3)):\n",
    "    print([branchFatJet.At(i).TrimmedP4.Pt(),\n",
    "           branchFatJet.At(i).TrimmedP4.Eta(),\n",
    "           branchFatJet.At(i).TrimmedP4.Phi(),\n",
    "           branchFatJet.At(i).TrimmedP4.M()])"
   ]
  },
  {
   "cell_type": "code",
   "execution_count": 13,
   "metadata": {},
   "outputs": [
    {
     "data": {
      "text/plain": [
       "15"
      ]
     },
     "execution_count": 13,
     "metadata": {},
     "output_type": "execute_result"
    }
   ],
   "source": [
    "get_decay_products(get_decay_products(boosted_wino)[0])[0].PID"
   ]
  },
  {
   "cell_type": "code",
   "execution_count": 14,
   "metadata": {},
   "outputs": [
    {
     "data": {
      "text/plain": [
       "-24"
      ]
     },
     "execution_count": 14,
     "metadata": {},
     "output_type": "execute_result"
    }
   ],
   "source": [
    "get_decay_products(boosted_wino)[0].PID"
   ]
  },
  {
   "cell_type": "code",
   "execution_count": 15,
   "metadata": {},
   "outputs": [
    {
     "name": "stdout",
     "output_type": "stream",
     "text": [
      "(x,y,z,t)=(331.235843,-871.635154,665.333241,1145.498012) (P,eta,phi,E)=(1145.483892,0.663717,-1.207635,1145.498012)\n"
     ]
    }
   ],
   "source": [
    "branchFatJet.At(0).PrunedP4.Print()"
   ]
  },
  {
   "cell_type": "code",
   "execution_count": 52,
   "metadata": {},
   "outputs": [
    {
     "data": {
      "text/plain": [
       "2.856135129928589"
      ]
     },
     "execution_count": 52,
     "metadata": {},
     "output_type": "execute_result"
    }
   ],
   "source": [
    "branchJet.At(1).Constituents.First().ET"
   ]
  },
  {
   "cell_type": "code",
   "execution_count": 37,
   "metadata": {},
   "outputs": [
    {
     "data": {
      "text/plain": [
       "444.33282470703125"
      ]
     },
     "execution_count": 37,
     "metadata": {},
     "output_type": "execute_result"
    }
   ],
   "source": [
    "branchJet.At(1).PT"
   ]
  },
  {
   "cell_type": "code",
   "execution_count": 17,
   "metadata": {},
   "outputs": [
    {
     "ename": "NameError",
     "evalue": "name 'histJetPT' is not defined",
     "output_type": "error",
     "traceback": [
      "\u001b[0;31m---------------------------------------------------------------------------\u001b[0m",
      "\u001b[0;31mNameError\u001b[0m                                 Traceback (most recent call last)",
      "\u001b[0;32m<ipython-input-17-d23bb5f340ee>\u001b[0m in \u001b[0;36m<module>\u001b[0;34m\u001b[0m\n\u001b[0;32m----> 1\u001b[0;31m \u001b[0mhistJetPT\u001b[0m\u001b[0;34m.\u001b[0m\u001b[0mPrint\u001b[0m\u001b[0;34m(\u001b[0m\u001b[0;34m)\u001b[0m\u001b[0;34m\u001b[0m\u001b[0;34m\u001b[0m\u001b[0m\n\u001b[0m",
      "\u001b[0;31mNameError\u001b[0m: name 'histJetPT' is not defined"
     ]
    }
   ],
   "source": [
    "histJetPT.Print()"
   ]
  },
  {
   "cell_type": "code",
   "execution_count": 18,
   "metadata": {},
   "outputs": [
    {
     "data": {
      "text/plain": [
       "932.451084462997"
      ]
     },
     "execution_count": 18,
     "metadata": {},
     "output_type": "execute_result"
    }
   ],
   "source": [
    "branchFatJet.At(0).PrunedP4.Pt()"
   ]
  },
  {
   "cell_type": "code",
   "execution_count": null,
   "metadata": {},
   "outputs": [],
   "source": []
  }
 ],
 "metadata": {
  "kernelspec": {
   "display_name": "BNN_env_python3.6",
   "language": "python",
   "name": "bnn_env_python3.6"
  },
  "language_info": {
   "codemirror_mode": {
    "name": "ipython",
    "version": 3
   },
   "file_extension": ".py",
   "mimetype": "text/x-python",
   "name": "python",
   "nbconvert_exporter": "python",
   "pygments_lexer": "ipython3",
   "version": "3.6.8"
  }
 },
 "nbformat": 4,
 "nbformat_minor": 2
}
